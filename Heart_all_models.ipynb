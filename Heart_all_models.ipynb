{
 "cells": [
  {
   "cell_type": "code",
   "execution_count": 4,
   "metadata": {
    "id": "AJrtseyzAZHm"
   },
   "outputs": [],
   "source": [
    "import numpy as np\n",
    "import pandas as pd\n",
    "import matplotlib.pyplot as plt\n",
    "%matplotlib inline\n",
    "from sklearn.preprocessing import LabelEncoder\n",
    "from sklearn.model_selection import train_test_split\n",
    "from sklearn.metrics import roc_auc_score\n",
    "import warnings\n",
    "warnings.filterwarnings(\"ignore\")\n",
    "import seaborn as sns\n",
    "\n",
    "from sklearn.metrics import precision_recall_fscore_support as score\n",
    "from sklearn.metrics import confusion_matrix, accuracy_score, classification_report\n",
    "from sklearn.metrics import plot_confusion_matrix"
   ]
  },
  {
   "cell_type": "code",
   "execution_count": 5,
   "metadata": {
    "colab": {
     "base_uri": "https://localhost:8080/"
    },
    "id": "YUN8UNnHApVL",
    "outputId": "0cd30bba-41e0-4121-fe38-187360062bfb"
   },
   "outputs": [
    {
     "name": "stdout",
     "output_type": "stream",
     "text": [
      "<class 'pandas.core.frame.DataFrame'>\n",
      "RangeIndex: 918 entries, 0 to 917\n",
      "Data columns (total 12 columns):\n",
      " #   Column          Non-Null Count  Dtype  \n",
      "---  ------          --------------  -----  \n",
      " 0   Age             918 non-null    int64  \n",
      " 1   Sex             918 non-null    object \n",
      " 2   ChestPainType   918 non-null    object \n",
      " 3   RestingBP       918 non-null    int64  \n",
      " 4   Cholesterol     918 non-null    int64  \n",
      " 5   FastingBS       918 non-null    int64  \n",
      " 6   RestingECG      918 non-null    object \n",
      " 7   MaxHR           918 non-null    int64  \n",
      " 8   ExerciseAngina  918 non-null    object \n",
      " 9   Oldpeak         918 non-null    float64\n",
      " 10  ST_Slope        918 non-null    object \n",
      " 11  HeartDisease    918 non-null    int64  \n",
      "dtypes: float64(1), int64(6), object(5)\n",
      "memory usage: 86.2+ KB\n"
     ]
    }
   ],
   "source": [
    "df = pd.read_excel('heart.xlsx')\n",
    "df.info()\n"
   ]
  },
  {
   "cell_type": "code",
   "execution_count": 6,
   "metadata": {
    "id": "L4USZTnzI6Y5"
   },
   "outputs": [],
   "source": [
    "df.rename(columns = {'Age':'Yas', 'Sex':'Cinsiyet','ChestPainType':'Gögüs_Ağrısı_Tipi','RestingBP':'Dinlenme_Kan_Basıncı',\n",
    "                     'Cholesterol':'Kolesterol',\n",
    "                     'FastingBS':'Açlık_Kan_Şekeri','RestingECG':'Dinlenme_EKG','MaxHR':'Max_Nabız',\n",
    "                     'ExerciseAngina':'Egzersiz_Anjin','Oldpeak':'Depresyon_Degeri','ST_Slope':'Tepe_Egzersiz_Egimi',\n",
    "                     'HeartDisease':'Kalp_Hastalıgı'}, inplace = True)"
   ]
  },
  {
   "cell_type": "markdown",
   "metadata": {
    "id": "GvC2ORxzPC0D"
   },
   "source": [
    "# Görselleştirme"
   ]
  },
  {
   "cell_type": "code",
   "execution_count": null,
   "metadata": {},
   "outputs": [],
   "source": []
  },
  {
   "cell_type": "markdown",
   "metadata": {},
   "source": [
    "# değişkenler üzerine açıklayıcı grafikler"
   ]
  },
  {
   "cell_type": "code",
   "execution_count": null,
   "metadata": {},
   "outputs": [],
   "source": [
    "df.info()"
   ]
  },
  {
   "cell_type": "code",
   "execution_count": null,
   "metadata": {},
   "outputs": [],
   "source": [
    "#bağımlı değişken sınıf dağılımı\n",
    "\n",
    "sns.catplot(x=\"Kalp_Hastalıgı\",kind=\"count\",data=df)"
   ]
  },
  {
   "cell_type": "code",
   "execution_count": null,
   "metadata": {},
   "outputs": [],
   "source": [
    "#cinsiyet\n",
    "sns.catplot(x=\"Cinsiyet\",kind=\"count\",data=df)"
   ]
  },
  {
   "cell_type": "code",
   "execution_count": null,
   "metadata": {},
   "outputs": [],
   "source": [
    "#Gögüs_Ağrısı_Tipi\n",
    "sns.catplot(x=\"Gögüs_Ağrısı_Tipi\",kind=\"count\",data=df)"
   ]
  },
  {
   "cell_type": "code",
   "execution_count": null,
   "metadata": {},
   "outputs": [],
   "source": [
    "#Gögüs_Ağrısı_Tipi\n",
    "sns.catplot(x=\"Dinlenme_EKG\",kind=\"count\",data=df)"
   ]
  },
  {
   "cell_type": "code",
   "execution_count": null,
   "metadata": {},
   "outputs": [],
   "source": [
    "#Egzersiz_Anjin\n",
    "sns.catplot(x=\"Egzersiz_Anjin\",kind=\"count\",data=df)"
   ]
  },
  {
   "cell_type": "code",
   "execution_count": null,
   "metadata": {},
   "outputs": [],
   "source": [
    "#Tepe_Egzersiz_Egimi\n",
    "sns.catplot(x=\"Tepe_Egzersiz_Egimi\",kind=\"count\",data=df)"
   ]
  },
  {
   "cell_type": "code",
   "execution_count": null,
   "metadata": {},
   "outputs": [],
   "source": [
    "# yaş dağılımı\n",
    "plt.figure(figsize=(8,7))\n",
    "sns.distplot(df.Yas, color=\"blue\")"
   ]
  },
  {
   "cell_type": "code",
   "execution_count": null,
   "metadata": {},
   "outputs": [],
   "source": [
    "#max_nabız\n",
    "plt.figure(figsize=(8,5))\n",
    "sns.kdeplot(df.Max_Nabız,shade=True, color=\"blue\")"
   ]
  },
  {
   "cell_type": "code",
   "execution_count": null,
   "metadata": {},
   "outputs": [],
   "source": [
    "#depresyon değeri\n",
    "#plt.figure(figsize=(8,5))\n",
    "sns.kdeplot(df.Depresyon_Degeri,shade=True, color=\"blue\")"
   ]
  },
  {
   "cell_type": "markdown",
   "metadata": {},
   "source": [
    "# Bağımlı değişken ile diğer değişkenlerin kesişimi"
   ]
  },
  {
   "cell_type": "code",
   "execution_count": null,
   "metadata": {},
   "outputs": [],
   "source": [
    "df.info()"
   ]
  },
  {
   "cell_type": "code",
   "execution_count": null,
   "metadata": {},
   "outputs": [],
   "source": [
    "sns.catplot(x=\"Cinsiyet\", kind=\"count\",hue=\"Kalp_Hastalıgı\",data=df)"
   ]
  },
  {
   "cell_type": "code",
   "execution_count": null,
   "metadata": {},
   "outputs": [],
   "source": [
    "sns.catplot(x=\"Gögüs_Ağrısı_Tipi\", kind=\"count\",hue=\"Kalp_Hastalıgı\",data=df)"
   ]
  },
  {
   "cell_type": "code",
   "execution_count": null,
   "metadata": {},
   "outputs": [],
   "source": [
    "sns.catplot(x=\"Dinlenme_EKG\", kind=\"count\",hue=\"Kalp_Hastalıgı\",data=df)"
   ]
  },
  {
   "cell_type": "code",
   "execution_count": null,
   "metadata": {},
   "outputs": [],
   "source": [
    "sns.catplot(x=\"Egzersiz_Anjin\", kind=\"count\",hue=\"Kalp_Hastalıgı\",data=df)"
   ]
  },
  {
   "cell_type": "code",
   "execution_count": null,
   "metadata": {},
   "outputs": [],
   "source": [
    "sns.catplot(x=\"Tepe_Egzersiz_Egimi\", kind=\"count\",hue=\"Kalp_Hastalıgı\",data=df)"
   ]
  },
  {
   "cell_type": "code",
   "execution_count": null,
   "metadata": {},
   "outputs": [],
   "source": [
    "\n",
    "df.groupby(\"Kalp_Hastalıgı\",as_index=False).mean()"
   ]
  },
  {
   "cell_type": "markdown",
   "metadata": {},
   "source": [
    "# Veri ön işleme"
   ]
  },
  {
   "cell_type": "code",
   "execution_count": 7,
   "metadata": {},
   "outputs": [
    {
     "name": "stdout",
     "output_type": "stream",
     "text": [
      "<class 'pandas.core.frame.DataFrame'>\n",
      "RangeIndex: 918 entries, 0 to 917\n",
      "Data columns (total 12 columns):\n",
      " #   Column                Non-Null Count  Dtype  \n",
      "---  ------                --------------  -----  \n",
      " 0   Yas                   918 non-null    int64  \n",
      " 1   Cinsiyet              918 non-null    object \n",
      " 2   Gögüs_Ağrısı_Tipi     918 non-null    object \n",
      " 3   Dinlenme_Kan_Basıncı  918 non-null    int64  \n",
      " 4   Kolesterol            918 non-null    int64  \n",
      " 5   Açlık_Kan_Şekeri      918 non-null    int64  \n",
      " 6   Dinlenme_EKG          918 non-null    object \n",
      " 7   Max_Nabız             918 non-null    int64  \n",
      " 8   Egzersiz_Anjin        918 non-null    object \n",
      " 9   Depresyon_Degeri      918 non-null    float64\n",
      " 10  Tepe_Egzersiz_Egimi   918 non-null    object \n",
      " 11  Kalp_Hastalıgı        918 non-null    int64  \n",
      "dtypes: float64(1), int64(6), object(5)\n",
      "memory usage: 86.2+ KB\n"
     ]
    }
   ],
   "source": [
    "df.info()"
   ]
  },
  {
   "cell_type": "code",
   "execution_count": 8,
   "metadata": {},
   "outputs": [
    {
     "data": {
      "text/html": [
       "<div>\n",
       "<style scoped>\n",
       "    .dataframe tbody tr th:only-of-type {\n",
       "        vertical-align: middle;\n",
       "    }\n",
       "\n",
       "    .dataframe tbody tr th {\n",
       "        vertical-align: top;\n",
       "    }\n",
       "\n",
       "    .dataframe thead th {\n",
       "        text-align: right;\n",
       "    }\n",
       "</style>\n",
       "<table border=\"1\" class=\"dataframe\">\n",
       "  <thead>\n",
       "    <tr style=\"text-align: right;\">\n",
       "      <th></th>\n",
       "      <th>count</th>\n",
       "      <th>mean</th>\n",
       "      <th>std</th>\n",
       "      <th>min</th>\n",
       "      <th>25%</th>\n",
       "      <th>50%</th>\n",
       "      <th>75%</th>\n",
       "      <th>max</th>\n",
       "    </tr>\n",
       "  </thead>\n",
       "  <tbody>\n",
       "    <tr>\n",
       "      <th>Yas</th>\n",
       "      <td>918.0</td>\n",
       "      <td>53.510893</td>\n",
       "      <td>9.432617</td>\n",
       "      <td>28.0</td>\n",
       "      <td>47.00</td>\n",
       "      <td>54.0</td>\n",
       "      <td>60.0</td>\n",
       "      <td>77.0</td>\n",
       "    </tr>\n",
       "    <tr>\n",
       "      <th>Dinlenme_Kan_Basıncı</th>\n",
       "      <td>918.0</td>\n",
       "      <td>132.396514</td>\n",
       "      <td>18.514154</td>\n",
       "      <td>0.0</td>\n",
       "      <td>120.00</td>\n",
       "      <td>130.0</td>\n",
       "      <td>140.0</td>\n",
       "      <td>200.0</td>\n",
       "    </tr>\n",
       "    <tr>\n",
       "      <th>Kolesterol</th>\n",
       "      <td>918.0</td>\n",
       "      <td>198.799564</td>\n",
       "      <td>109.384145</td>\n",
       "      <td>0.0</td>\n",
       "      <td>173.25</td>\n",
       "      <td>223.0</td>\n",
       "      <td>267.0</td>\n",
       "      <td>603.0</td>\n",
       "    </tr>\n",
       "    <tr>\n",
       "      <th>Açlık_Kan_Şekeri</th>\n",
       "      <td>918.0</td>\n",
       "      <td>0.233115</td>\n",
       "      <td>0.423046</td>\n",
       "      <td>0.0</td>\n",
       "      <td>0.00</td>\n",
       "      <td>0.0</td>\n",
       "      <td>0.0</td>\n",
       "      <td>1.0</td>\n",
       "    </tr>\n",
       "    <tr>\n",
       "      <th>Max_Nabız</th>\n",
       "      <td>918.0</td>\n",
       "      <td>136.809368</td>\n",
       "      <td>25.460334</td>\n",
       "      <td>60.0</td>\n",
       "      <td>120.00</td>\n",
       "      <td>138.0</td>\n",
       "      <td>156.0</td>\n",
       "      <td>202.0</td>\n",
       "    </tr>\n",
       "    <tr>\n",
       "      <th>Depresyon_Degeri</th>\n",
       "      <td>918.0</td>\n",
       "      <td>0.887364</td>\n",
       "      <td>1.066570</td>\n",
       "      <td>-2.6</td>\n",
       "      <td>0.00</td>\n",
       "      <td>0.6</td>\n",
       "      <td>1.5</td>\n",
       "      <td>6.2</td>\n",
       "    </tr>\n",
       "    <tr>\n",
       "      <th>Kalp_Hastalıgı</th>\n",
       "      <td>918.0</td>\n",
       "      <td>0.553377</td>\n",
       "      <td>0.497414</td>\n",
       "      <td>0.0</td>\n",
       "      <td>0.00</td>\n",
       "      <td>1.0</td>\n",
       "      <td>1.0</td>\n",
       "      <td>1.0</td>\n",
       "    </tr>\n",
       "  </tbody>\n",
       "</table>\n",
       "</div>"
      ],
      "text/plain": [
       "                      count        mean         std   min     25%    50%  \\\n",
       "Yas                   918.0   53.510893    9.432617  28.0   47.00   54.0   \n",
       "Dinlenme_Kan_Basıncı  918.0  132.396514   18.514154   0.0  120.00  130.0   \n",
       "Kolesterol            918.0  198.799564  109.384145   0.0  173.25  223.0   \n",
       "Açlık_Kan_Şekeri      918.0    0.233115    0.423046   0.0    0.00    0.0   \n",
       "Max_Nabız             918.0  136.809368   25.460334  60.0  120.00  138.0   \n",
       "Depresyon_Degeri      918.0    0.887364    1.066570  -2.6    0.00    0.6   \n",
       "Kalp_Hastalıgı        918.0    0.553377    0.497414   0.0    0.00    1.0   \n",
       "\n",
       "                        75%    max  \n",
       "Yas                    60.0   77.0  \n",
       "Dinlenme_Kan_Basıncı  140.0  200.0  \n",
       "Kolesterol            267.0  603.0  \n",
       "Açlık_Kan_Şekeri        0.0    1.0  \n",
       "Max_Nabız             156.0  202.0  \n",
       "Depresyon_Degeri        1.5    6.2  \n",
       "Kalp_Hastalıgı          1.0    1.0  "
      ]
     },
     "execution_count": 8,
     "metadata": {},
     "output_type": "execute_result"
    }
   ],
   "source": [
    "#veri üzerine daha detaylı bir bakış (numerik değerlerin istatistiksel özeti)\n",
    "df.describe().T "
   ]
  },
  {
   "cell_type": "code",
   "execution_count": 9,
   "metadata": {},
   "outputs": [],
   "source": [
    "#kategorik değişkenlere erişme\n",
    "cat_cols=df.select_dtypes(include=[\"object\"])"
   ]
  },
  {
   "cell_type": "code",
   "execution_count": 10,
   "metadata": {},
   "outputs": [
    {
     "data": {
      "text/html": [
       "<div>\n",
       "<style scoped>\n",
       "    .dataframe tbody tr th:only-of-type {\n",
       "        vertical-align: middle;\n",
       "    }\n",
       "\n",
       "    .dataframe tbody tr th {\n",
       "        vertical-align: top;\n",
       "    }\n",
       "\n",
       "    .dataframe thead th {\n",
       "        text-align: right;\n",
       "    }\n",
       "</style>\n",
       "<table border=\"1\" class=\"dataframe\">\n",
       "  <thead>\n",
       "    <tr style=\"text-align: right;\">\n",
       "      <th></th>\n",
       "      <th>Cinsiyet</th>\n",
       "      <th>Gögüs_Ağrısı_Tipi</th>\n",
       "      <th>Dinlenme_EKG</th>\n",
       "      <th>Egzersiz_Anjin</th>\n",
       "      <th>Tepe_Egzersiz_Egimi</th>\n",
       "    </tr>\n",
       "  </thead>\n",
       "  <tbody>\n",
       "    <tr>\n",
       "      <th>0</th>\n",
       "      <td>M</td>\n",
       "      <td>ATA</td>\n",
       "      <td>Normal</td>\n",
       "      <td>N</td>\n",
       "      <td>Up</td>\n",
       "    </tr>\n",
       "    <tr>\n",
       "      <th>1</th>\n",
       "      <td>F</td>\n",
       "      <td>NAP</td>\n",
       "      <td>Normal</td>\n",
       "      <td>N</td>\n",
       "      <td>Flat</td>\n",
       "    </tr>\n",
       "    <tr>\n",
       "      <th>2</th>\n",
       "      <td>M</td>\n",
       "      <td>ATA</td>\n",
       "      <td>ST</td>\n",
       "      <td>N</td>\n",
       "      <td>Up</td>\n",
       "    </tr>\n",
       "    <tr>\n",
       "      <th>3</th>\n",
       "      <td>F</td>\n",
       "      <td>ASY</td>\n",
       "      <td>Normal</td>\n",
       "      <td>Y</td>\n",
       "      <td>Flat</td>\n",
       "    </tr>\n",
       "    <tr>\n",
       "      <th>4</th>\n",
       "      <td>M</td>\n",
       "      <td>NAP</td>\n",
       "      <td>Normal</td>\n",
       "      <td>N</td>\n",
       "      <td>Up</td>\n",
       "    </tr>\n",
       "  </tbody>\n",
       "</table>\n",
       "</div>"
      ],
      "text/plain": [
       "  Cinsiyet Gögüs_Ağrısı_Tipi Dinlenme_EKG Egzersiz_Anjin Tepe_Egzersiz_Egimi\n",
       "0        M               ATA       Normal              N                  Up\n",
       "1        F               NAP       Normal              N                Flat\n",
       "2        M               ATA           ST              N                  Up\n",
       "3        F               ASY       Normal              Y                Flat\n",
       "4        M               NAP       Normal              N                  Up"
      ]
     },
     "execution_count": 10,
     "metadata": {},
     "output_type": "execute_result"
    }
   ],
   "source": [
    "cat_cols.head()"
   ]
  },
  {
   "cell_type": "markdown",
   "metadata": {},
   "source": [
    "#### Karakter olan object ifadelerin modele konulması mümkün değildir.kategorik değerlerin sayısallaştırılması gerekmektedir. Bu nedenle one hot encoder ile kategorik değişkenler dummy değişkenler haline getirilerek sayıllaştırılmıştır. "
   ]
  },
  {
   "cell_type": "code",
   "execution_count": 11,
   "metadata": {},
   "outputs": [],
   "source": [
    "df1=pd.get_dummies(df, columns = [\"Gögüs_Ağrısı_Tipi\"], prefix = [\"Gögüs_Ağrısı_Tipi\"])\n",
    "df1=pd.get_dummies(df1, columns = [\"Dinlenme_EKG\"], prefix = [\"Dinlenme_EKG\"])\n",
    "df1=pd.get_dummies(df1, columns = [\"Tepe_Egzersiz_Egimi\"], prefix = [\"Tepe_Egzersiz_Egimi\"])\n"
   ]
  },
  {
   "cell_type": "code",
   "execution_count": 12,
   "metadata": {},
   "outputs": [],
   "source": [
    "df1=pd.get_dummies(df1, columns = [\"Cinsiyet\"], prefix = [\"Cinsiyet\"],  drop_first=True )\n",
    "df1=pd.get_dummies(df1, columns = [\"Egzersiz_Anjin\"], prefix = [\"Egzersiz_Anjin\"],  drop_first=True )"
   ]
  },
  {
   "cell_type": "code",
   "execution_count": 13,
   "metadata": {},
   "outputs": [
    {
     "name": "stdout",
     "output_type": "stream",
     "text": [
      "<class 'pandas.core.frame.DataFrame'>\n",
      "RangeIndex: 918 entries, 0 to 917\n",
      "Data columns (total 19 columns):\n",
      " #   Column                    Non-Null Count  Dtype  \n",
      "---  ------                    --------------  -----  \n",
      " 0   Yas                       918 non-null    int64  \n",
      " 1   Dinlenme_Kan_Basıncı      918 non-null    int64  \n",
      " 2   Kolesterol                918 non-null    int64  \n",
      " 3   Açlık_Kan_Şekeri          918 non-null    int64  \n",
      " 4   Max_Nabız                 918 non-null    int64  \n",
      " 5   Depresyon_Degeri          918 non-null    float64\n",
      " 6   Kalp_Hastalıgı            918 non-null    int64  \n",
      " 7   Gögüs_Ağrısı_Tipi_ASY     918 non-null    uint8  \n",
      " 8   Gögüs_Ağrısı_Tipi_ATA     918 non-null    uint8  \n",
      " 9   Gögüs_Ağrısı_Tipi_NAP     918 non-null    uint8  \n",
      " 10  Gögüs_Ağrısı_Tipi_TA      918 non-null    uint8  \n",
      " 11  Dinlenme_EKG_LVH          918 non-null    uint8  \n",
      " 12  Dinlenme_EKG_Normal       918 non-null    uint8  \n",
      " 13  Dinlenme_EKG_ST           918 non-null    uint8  \n",
      " 14  Tepe_Egzersiz_Egimi_Down  918 non-null    uint8  \n",
      " 15  Tepe_Egzersiz_Egimi_Flat  918 non-null    uint8  \n",
      " 16  Tepe_Egzersiz_Egimi_Up    918 non-null    uint8  \n",
      " 17  Cinsiyet_M                918 non-null    uint8  \n",
      " 18  Egzersiz_Anjin_Y          918 non-null    uint8  \n",
      "dtypes: float64(1), int64(6), uint8(12)\n",
      "memory usage: 61.1 KB\n"
     ]
    }
   ],
   "source": [
    "df1.info()"
   ]
  },
  {
   "cell_type": "markdown",
   "metadata": {},
   "source": [
    "# MODELLER"
   ]
  },
  {
   "cell_type": "code",
   "execution_count": 14,
   "metadata": {},
   "outputs": [],
   "source": [
    "#train  - test diye veri setinin ayrılması.\n",
    "# vei setinin %80'i train, %20'si test olarak ayrılmıştır.\n",
    "\n",
    "from sklearn.model_selection import train_test_split \n",
    "\n",
    "X = df1.drop('Kalp_Hastalıgı', axis=1)\n",
    "y = df1['Kalp_Hastalıgı']\n",
    "\n",
    "X_train, X_test, y_train, y_test = train_test_split(X, y, test_size=0.2, random_state=0)"
   ]
  },
  {
   "cell_type": "markdown",
   "metadata": {},
   "source": [
    "# Naive Bayes"
   ]
  },
  {
   "cell_type": "code",
   "execution_count": 15,
   "metadata": {},
   "outputs": [],
   "source": [
    "from sklearn.naive_bayes import GaussianNB"
   ]
  },
  {
   "cell_type": "code",
   "execution_count": 16,
   "metadata": {},
   "outputs": [
    {
     "data": {
      "text/plain": [
       "GaussianNB()"
      ]
     },
     "execution_count": 16,
     "metadata": {},
     "output_type": "execute_result"
    }
   ],
   "source": [
    "nb = GaussianNB()\n",
    "nb_model = nb.fit(X_train, y_train)\n",
    "nb_model"
   ]
  },
  {
   "cell_type": "code",
   "execution_count": 17,
   "metadata": {},
   "outputs": [
    {
     "data": {
      "text/plain": [
       "0.8637602179836512"
      ]
     },
     "execution_count": 17,
     "metadata": {},
     "output_type": "execute_result"
    }
   ],
   "source": [
    "y_pred = nb_model.predict(X_train)\n",
    "accuracy_score(y_train, y_pred) #train skoru"
   ]
  },
  {
   "cell_type": "code",
   "execution_count": 18,
   "metadata": {},
   "outputs": [
    {
     "data": {
      "text/plain": [
       "0.8315217391304348"
      ]
     },
     "execution_count": 18,
     "metadata": {},
     "output_type": "execute_result"
    }
   ],
   "source": [
    "#test skoru\n",
    "y_pred1 = nb_model.predict(X_test)\n",
    "accuracy_score(y_test, y_pred1)"
   ]
  },
  {
   "cell_type": "code",
   "execution_count": 19,
   "metadata": {},
   "outputs": [
    {
     "data": {
      "text/plain": [
       "array([[57, 20],\n",
       "       [11, 96]], dtype=int64)"
      ]
     },
     "execution_count": 19,
     "metadata": {},
     "output_type": "execute_result"
    }
   ],
   "source": [
    "confusion_matrix(y_test, y_pred1)"
   ]
  },
  {
   "cell_type": "code",
   "execution_count": 20,
   "metadata": {},
   "outputs": [
    {
     "data": {
      "image/png": "[encoded data removed]",
      "text/plain": [
       "<Figure size 432x288 with 2 Axes>"
      ]
     },
     "metadata": {
      "needs_background": "light"
     },
     "output_type": "display_data"
    }
   ],
   "source": [
    "plot_confusion_matrix(nb_model, X_test, y_test)  \n",
    "plt.show()"
   ]
  },
  {
   "cell_type": "code",
   "execution_count": 21,
   "metadata": {},
   "outputs": [
    {
     "name": "stdout",
     "output_type": "stream",
     "text": [
      "              precision    recall  f1-score   support\n",
      "\n",
      "           0       0.84      0.74      0.79        77\n",
      "           1       0.83      0.90      0.86       107\n",
      "\n",
      "    accuracy                           0.83       184\n",
      "   macro avg       0.83      0.82      0.82       184\n",
      "weighted avg       0.83      0.83      0.83       184\n",
      "\n"
     ]
    }
   ],
   "source": [
    "print(classification_report(y_test, y_pred1))"
   ]
  },
  {
   "cell_type": "markdown",
   "metadata": {},
   "source": [
    "# KNN "
   ]
  },
  {
   "cell_type": "code",
   "execution_count": 22,
   "metadata": {},
   "outputs": [
    {
     "data": {
      "text/plain": [
       "KNeighborsClassifier()"
      ]
     },
     "execution_count": 22,
     "metadata": {},
     "output_type": "execute_result"
    }
   ],
   "source": [
    "from sklearn.neighbors import KNeighborsClassifier\n",
    "knn = KNeighborsClassifier()\n",
    "knn_model = knn.fit(X_train, y_train)\n",
    "knn_model"
   ]
  },
  {
   "cell_type": "code",
   "execution_count": 23,
   "metadata": {},
   "outputs": [
    {
     "data": {
      "text/plain": [
       "0.7874659400544959"
      ]
     },
     "execution_count": 23,
     "metadata": {},
     "output_type": "execute_result"
    }
   ],
   "source": [
    "#train seti başarı oranı\n",
    "y_pred2 = knn_model.predict(X_train)  \n",
    "accuracy_score(y_train, y_pred2)"
   ]
  },
  {
   "cell_type": "code",
   "execution_count": 24,
   "metadata": {},
   "outputs": [
    {
     "data": {
      "text/plain": [
       "0.6902173913043478"
      ]
     },
     "execution_count": 24,
     "metadata": {},
     "output_type": "execute_result"
    }
   ],
   "source": [
    "#model test başarı oranı\n",
    "y_pred_knn = knn_model.predict(X_test)\n",
    "accuracy_score(y_test, y_pred_knn)"
   ]
  },
  {
   "cell_type": "code",
   "execution_count": 25,
   "metadata": {},
   "outputs": [
    {
     "data": {
      "text/plain": [
       "array([[48, 29],\n",
       "       [28, 79]], dtype=int64)"
      ]
     },
     "execution_count": 25,
     "metadata": {},
     "output_type": "execute_result"
    }
   ],
   "source": [
    "confusion_matrix(y_test, y_pred_knn)"
   ]
  },
  {
   "cell_type": "code",
   "execution_count": 26,
   "metadata": {},
   "outputs": [
    {
     "data": {
      "image/png": "[encoded data removed]",
      "text/plain": [
       "<Figure size 432x288 with 2 Axes>"
      ]
     },
     "metadata": {
      "needs_background": "light"
     },
     "output_type": "display_data"
    }
   ],
   "source": [
    "plot_confusion_matrix(knn_model, X_test, y_test)  \n",
    "plt.show()"
   ]
  },
  {
   "cell_type": "code",
   "execution_count": 27,
   "metadata": {},
   "outputs": [
    {
     "name": "stdout",
     "output_type": "stream",
     "text": [
      "              precision    recall  f1-score   support\n",
      "\n",
      "           0       0.63      0.62      0.63        77\n",
      "           1       0.73      0.74      0.73       107\n",
      "\n",
      "    accuracy                           0.69       184\n",
      "   macro avg       0.68      0.68      0.68       184\n",
      "weighted avg       0.69      0.69      0.69       184\n",
      "\n"
     ]
    }
   ],
   "source": [
    "print(classification_report(y_test, y_pred_knn))"
   ]
  },
  {
   "cell_type": "markdown",
   "metadata": {},
   "source": [
    "# K - Means"
   ]
  },
  {
   "cell_type": "markdown",
   "metadata": {},
   "source": [
    "### bu algoritma değişkenleri kendi arasında kümelemeye yaramaktadır. Numerik değerleri çalıştırmak gereklidir."
   ]
  },
  {
   "cell_type": "code",
   "execution_count": 37,
   "metadata": {},
   "outputs": [],
   "source": [
    "df_kum=df.select_dtypes(include=[\"int64\",\"float64\"])\n",
    "df_kum.drop(\"Kalp_Hastalıgı\",axis=1, inplace=True)"
   ]
  },
  {
   "cell_type": "code",
   "execution_count": 38,
   "metadata": {},
   "outputs": [
    {
     "data": {
      "text/html": [
       "<div>\n",
       "<style scoped>\n",
       "    .dataframe tbody tr th:only-of-type {\n",
       "        vertical-align: middle;\n",
       "    }\n",
       "\n",
       "    .dataframe tbody tr th {\n",
       "        vertical-align: top;\n",
       "    }\n",
       "\n",
       "    .dataframe thead th {\n",
       "        text-align: right;\n",
       "    }\n",
       "</style>\n",
       "<table border=\"1\" class=\"dataframe\">\n",
       "  <thead>\n",
       "    <tr style=\"text-align: right;\">\n",
       "      <th></th>\n",
       "      <th>Yas</th>\n",
       "      <th>Dinlenme_Kan_Basıncı</th>\n",
       "      <th>Kolesterol</th>\n",
       "      <th>Açlık_Kan_Şekeri</th>\n",
       "      <th>Max_Nabız</th>\n",
       "      <th>Depresyon_Degeri</th>\n",
       "    </tr>\n",
       "  </thead>\n",
       "  <tbody>\n",
       "    <tr>\n",
       "      <th>0</th>\n",
       "      <td>40</td>\n",
       "      <td>140</td>\n",
       "      <td>289</td>\n",
       "      <td>0</td>\n",
       "      <td>172</td>\n",
       "      <td>0.0</td>\n",
       "    </tr>\n",
       "    <tr>\n",
       "      <th>1</th>\n",
       "      <td>49</td>\n",
       "      <td>160</td>\n",
       "      <td>180</td>\n",
       "      <td>0</td>\n",
       "      <td>156</td>\n",
       "      <td>1.0</td>\n",
       "    </tr>\n",
       "    <tr>\n",
       "      <th>2</th>\n",
       "      <td>37</td>\n",
       "      <td>130</td>\n",
       "      <td>283</td>\n",
       "      <td>0</td>\n",
       "      <td>98</td>\n",
       "      <td>0.0</td>\n",
       "    </tr>\n",
       "    <tr>\n",
       "      <th>3</th>\n",
       "      <td>48</td>\n",
       "      <td>138</td>\n",
       "      <td>214</td>\n",
       "      <td>0</td>\n",
       "      <td>108</td>\n",
       "      <td>1.5</td>\n",
       "    </tr>\n",
       "    <tr>\n",
       "      <th>4</th>\n",
       "      <td>54</td>\n",
       "      <td>150</td>\n",
       "      <td>195</td>\n",
       "      <td>0</td>\n",
       "      <td>122</td>\n",
       "      <td>0.0</td>\n",
       "    </tr>\n",
       "  </tbody>\n",
       "</table>\n",
       "</div>"
      ],
      "text/plain": [
       "   Yas  Dinlenme_Kan_Basıncı  Kolesterol  Açlık_Kan_Şekeri  Max_Nabız  \\\n",
       "0   40                   140         289                 0        172   \n",
       "1   49                   160         180                 0        156   \n",
       "2   37                   130         283                 0         98   \n",
       "3   48                   138         214                 0        108   \n",
       "4   54                   150         195                 0        122   \n",
       "\n",
       "   Depresyon_Degeri  \n",
       "0               0.0  \n",
       "1               1.0  \n",
       "2               0.0  \n",
       "3               1.5  \n",
       "4               0.0  "
      ]
     },
     "execution_count": 38,
     "metadata": {},
     "output_type": "execute_result"
    }
   ],
   "source": [
    "df_kum.head()"
   ]
  },
  {
   "cell_type": "markdown",
   "metadata": {},
   "source": [
    "### optimum küme sayısını belirlemek için yellowbrick kütüphanesi kullanılabilir. Aşağıda görüldüğü üzere optimum küme sayııs 5 olarak belirlenmiştir."
   ]
  },
  {
   "cell_type": "code",
   "execution_count": 45,
   "metadata": {},
   "outputs": [
    {
     "data": {
      "image/png": "[encoded data removed]",
      "text/plain": [
       "<Figure size 576x396 with 2 Axes>"
      ]
     },
     "metadata": {},
     "output_type": "display_data"
    },
    {
     "data": {
      "text/plain": [
       "<AxesSubplot:title={'center':'Distortion Score Elbow for KMeans Clustering'}, xlabel='k', ylabel='distortion score'>"
      ]
     },
     "execution_count": 45,
     "metadata": {},
     "output_type": "execute_result"
    }
   ],
   "source": [
    "#!pip install yellowbrick\n",
    "from yellowbrick.cluster import KElbowVisualizer\n",
    "kmeans = KMeans()\n",
    "visualizer = KElbowVisualizer(kmeans, k=(2,20))\n",
    "visualizer.fit(df_kum) \n",
    "visualizer.poof()  "
   ]
  },
  {
   "cell_type": "code",
   "execution_count": 49,
   "metadata": {},
   "outputs": [],
   "source": [
    "#küme sayısı 5 olacak şekilde kümeleme modeli kurulursa\n",
    "\n",
    "kmeans = KMeans(n_clusters = 5)\n",
    "k_fit = kmeans.fit(df_kum)\n",
    "kumeler = k_fit.labels_"
   ]
  },
  {
   "cell_type": "code",
   "execution_count": 51,
   "metadata": {},
   "outputs": [
    {
     "data": {
      "text/html": [
       "<div>\n",
       "<style scoped>\n",
       "    .dataframe tbody tr th:only-of-type {\n",
       "        vertical-align: middle;\n",
       "    }\n",
       "\n",
       "    .dataframe tbody tr th {\n",
       "        vertical-align: top;\n",
       "    }\n",
       "\n",
       "    .dataframe thead th {\n",
       "        text-align: right;\n",
       "    }\n",
       "</style>\n",
       "<table border=\"1\" class=\"dataframe\">\n",
       "  <thead>\n",
       "    <tr style=\"text-align: right;\">\n",
       "      <th></th>\n",
       "      <th>Yas</th>\n",
       "      <th>Cinsiyet</th>\n",
       "      <th>Gögüs_Ağrısı_Tipi</th>\n",
       "      <th>Dinlenme_Kan_Basıncı</th>\n",
       "      <th>Kolesterol</th>\n",
       "      <th>Açlık_Kan_Şekeri</th>\n",
       "      <th>Dinlenme_EKG</th>\n",
       "      <th>Max_Nabız</th>\n",
       "      <th>Egzersiz_Anjin</th>\n",
       "      <th>Depresyon_Degeri</th>\n",
       "      <th>Tepe_Egzersiz_Egimi</th>\n",
       "      <th>Kalp_Hastalıgı</th>\n",
       "      <th>kume_no</th>\n",
       "    </tr>\n",
       "  </thead>\n",
       "  <tbody>\n",
       "    <tr>\n",
       "      <th>0</th>\n",
       "      <td>40</td>\n",
       "      <td>M</td>\n",
       "      <td>ATA</td>\n",
       "      <td>140</td>\n",
       "      <td>289</td>\n",
       "      <td>0</td>\n",
       "      <td>Normal</td>\n",
       "      <td>172</td>\n",
       "      <td>N</td>\n",
       "      <td>0.0</td>\n",
       "      <td>Up</td>\n",
       "      <td>0</td>\n",
       "      <td>0</td>\n",
       "    </tr>\n",
       "    <tr>\n",
       "      <th>1</th>\n",
       "      <td>49</td>\n",
       "      <td>F</td>\n",
       "      <td>NAP</td>\n",
       "      <td>160</td>\n",
       "      <td>180</td>\n",
       "      <td>0</td>\n",
       "      <td>Normal</td>\n",
       "      <td>156</td>\n",
       "      <td>N</td>\n",
       "      <td>1.0</td>\n",
       "      <td>Flat</td>\n",
       "      <td>1</td>\n",
       "      <td>2</td>\n",
       "    </tr>\n",
       "    <tr>\n",
       "      <th>2</th>\n",
       "      <td>37</td>\n",
       "      <td>M</td>\n",
       "      <td>ATA</td>\n",
       "      <td>130</td>\n",
       "      <td>283</td>\n",
       "      <td>0</td>\n",
       "      <td>ST</td>\n",
       "      <td>98</td>\n",
       "      <td>N</td>\n",
       "      <td>0.0</td>\n",
       "      <td>Up</td>\n",
       "      <td>0</td>\n",
       "      <td>0</td>\n",
       "    </tr>\n",
       "    <tr>\n",
       "      <th>3</th>\n",
       "      <td>48</td>\n",
       "      <td>F</td>\n",
       "      <td>ASY</td>\n",
       "      <td>138</td>\n",
       "      <td>214</td>\n",
       "      <td>0</td>\n",
       "      <td>Normal</td>\n",
       "      <td>108</td>\n",
       "      <td>Y</td>\n",
       "      <td>1.5</td>\n",
       "      <td>Flat</td>\n",
       "      <td>1</td>\n",
       "      <td>4</td>\n",
       "    </tr>\n",
       "    <tr>\n",
       "      <th>4</th>\n",
       "      <td>54</td>\n",
       "      <td>M</td>\n",
       "      <td>NAP</td>\n",
       "      <td>150</td>\n",
       "      <td>195</td>\n",
       "      <td>0</td>\n",
       "      <td>Normal</td>\n",
       "      <td>122</td>\n",
       "      <td>N</td>\n",
       "      <td>0.0</td>\n",
       "      <td>Up</td>\n",
       "      <td>0</td>\n",
       "      <td>2</td>\n",
       "    </tr>\n",
       "  </tbody>\n",
       "</table>\n",
       "</div>"
      ],
      "text/plain": [
       "   Yas Cinsiyet Gögüs_Ağrısı_Tipi  Dinlenme_Kan_Basıncı  Kolesterol  \\\n",
       "0   40        M               ATA                   140         289   \n",
       "1   49        F               NAP                   160         180   \n",
       "2   37        M               ATA                   130         283   \n",
       "3   48        F               ASY                   138         214   \n",
       "4   54        M               NAP                   150         195   \n",
       "\n",
       "   Açlık_Kan_Şekeri Dinlenme_EKG  Max_Nabız Egzersiz_Anjin  Depresyon_Degeri  \\\n",
       "0                 0       Normal        172              N               0.0   \n",
       "1                 0       Normal        156              N               1.0   \n",
       "2                 0           ST         98              N               0.0   \n",
       "3                 0       Normal        108              Y               1.5   \n",
       "4                 0       Normal        122              N               0.0   \n",
       "\n",
       "  Tepe_Egzersiz_Egimi  Kalp_Hastalıgı  kume_no  \n",
       "0                  Up               0        0  \n",
       "1                Flat               1        2  \n",
       "2                  Up               0        0  \n",
       "3                Flat               1        4  \n",
       "4                  Up               0        2  "
      ]
     },
     "execution_count": 51,
     "metadata": {},
     "output_type": "execute_result"
    }
   ],
   "source": [
    "#pd.DataFrame({\"Mağaza Kodu\" : df.index, \"Kumeler\": kumeler})[0:10]\n",
    "df[\"kume_no\"] = kumeler\n",
    "df.head()"
   ]
  },
  {
   "cell_type": "code",
   "execution_count": 56,
   "metadata": {},
   "outputs": [
    {
     "data": {
      "text/html": [
       "<div>\n",
       "<style scoped>\n",
       "    .dataframe tbody tr th:only-of-type {\n",
       "        vertical-align: middle;\n",
       "    }\n",
       "\n",
       "    .dataframe tbody tr th {\n",
       "        vertical-align: top;\n",
       "    }\n",
       "\n",
       "    .dataframe thead th {\n",
       "        text-align: right;\n",
       "    }\n",
       "</style>\n",
       "<table border=\"1\" class=\"dataframe\">\n",
       "  <thead>\n",
       "    <tr style=\"text-align: right;\">\n",
       "      <th></th>\n",
       "      <th>kume_no</th>\n",
       "      <th>Yas</th>\n",
       "      <th>Dinlenme_Kan_Basıncı</th>\n",
       "      <th>Kolesterol</th>\n",
       "      <th>Açlık_Kan_Şekeri</th>\n",
       "      <th>Max_Nabız</th>\n",
       "      <th>Depresyon_Degeri</th>\n",
       "      <th>Kalp_Hastalıgı</th>\n",
       "    </tr>\n",
       "  </thead>\n",
       "  <tbody>\n",
       "    <tr>\n",
       "      <th>0</th>\n",
       "      <td>0</td>\n",
       "      <td>53.898551</td>\n",
       "      <td>137.173913</td>\n",
       "      <td>298.628019</td>\n",
       "      <td>0.173913</td>\n",
       "      <td>139.429952</td>\n",
       "      <td>1.011594</td>\n",
       "      <td>0.550725</td>\n",
       "    </tr>\n",
       "    <tr>\n",
       "      <th>1</th>\n",
       "      <td>1</td>\n",
       "      <td>56.236994</td>\n",
       "      <td>129.624277</td>\n",
       "      <td>0.491329</td>\n",
       "      <td>0.514451</td>\n",
       "      <td>122.092486</td>\n",
       "      <td>0.820809</td>\n",
       "      <td>0.878613</td>\n",
       "    </tr>\n",
       "    <tr>\n",
       "      <th>2</th>\n",
       "      <td>2</td>\n",
       "      <td>51.396985</td>\n",
       "      <td>131.748744</td>\n",
       "      <td>182.663317</td>\n",
       "      <td>0.145729</td>\n",
       "      <td>141.703518</td>\n",
       "      <td>0.782915</td>\n",
       "      <td>0.407035</td>\n",
       "    </tr>\n",
       "    <tr>\n",
       "      <th>3</th>\n",
       "      <td>3</td>\n",
       "      <td>53.850000</td>\n",
       "      <td>139.600000</td>\n",
       "      <td>443.800000</td>\n",
       "      <td>0.300000</td>\n",
       "      <td>135.850000</td>\n",
       "      <td>0.990000</td>\n",
       "      <td>0.600000</td>\n",
       "    </tr>\n",
       "    <tr>\n",
       "      <th>4</th>\n",
       "      <td>4</td>\n",
       "      <td>53.078370</td>\n",
       "      <td>130.752351</td>\n",
       "      <td>236.272727</td>\n",
       "      <td>0.169279</td>\n",
       "      <td>140.097179</td>\n",
       "      <td>0.901567</td>\n",
       "      <td>0.467085</td>\n",
       "    </tr>\n",
       "  </tbody>\n",
       "</table>\n",
       "</div>"
      ],
      "text/plain": [
       "   kume_no        Yas  Dinlenme_Kan_Basıncı  Kolesterol  Açlık_Kan_Şekeri  \\\n",
       "0        0  53.898551            137.173913  298.628019          0.173913   \n",
       "1        1  56.236994            129.624277    0.491329          0.514451   \n",
       "2        2  51.396985            131.748744  182.663317          0.145729   \n",
       "3        3  53.850000            139.600000  443.800000          0.300000   \n",
       "4        4  53.078370            130.752351  236.272727          0.169279   \n",
       "\n",
       "    Max_Nabız  Depresyon_Degeri  Kalp_Hastalıgı  \n",
       "0  139.429952          1.011594        0.550725  \n",
       "1  122.092486          0.820809        0.878613  \n",
       "2  141.703518          0.782915        0.407035  \n",
       "3  135.850000          0.990000        0.600000  \n",
       "4  140.097179          0.901567        0.467085  "
      ]
     },
     "execution_count": 56,
     "metadata": {},
     "output_type": "execute_result"
    }
   ],
   "source": [
    "df.groupby(\"kume_no\",as_index=False).mean()"
   ]
  },
  {
   "cell_type": "code",
   "execution_count": 57,
   "metadata": {},
   "outputs": [
    {
     "data": {
      "text/plain": [
       "<seaborn.axisgrid.FacetGrid at 0x1794d7ca108>"
      ]
     },
     "execution_count": 57,
     "metadata": {},
     "output_type": "execute_result"
    },
    {
     "data": {
      "image/png": "[encoded data removed]",
      "text/plain": [
       "<Figure size 445.75x360 with 1 Axes>"
      ]
     },
     "metadata": {},
     "output_type": "display_data"
    }
   ],
   "source": [
    "sns.catplot(x=\"kume_no\", kind=\"count\",hue=\"Kalp_Hastalıgı\",data=df)"
   ]
  },
  {
   "cell_type": "code",
   "execution_count": null,
   "metadata": {},
   "outputs": [],
   "source": []
  }
 ],
 "metadata": {
  "colab": {
   "collapsed_sections": [],
   "name": "heart.ipynb",
   "provenance": []
  },
  "kernelspec": {
   "display_name": "Python 3",
   "language": "python",
   "name": "python3"
  },
  "language_info": {
   "codemirror_mode": {
    "name": "ipython",
    "version": 3
   },
   "file_extension": ".py",
   "mimetype": "text/x-python",
   "name": "python",
   "nbconvert_exporter": "python",
   "pygments_lexer": "ipython3",
   "version": "3.7.6"
  },
  "widgets": {
   "application/vnd.jupyter.widget-state+json": {
    "0152a7554c194962bf8b76042f7c8e0d": {
     "model_module": "@jupyter-widgets/base",
     "model_module_version": "1.2.0",
     "model_name": "LayoutModel",
     "state": {
      "_model_module": "@jupyter-widgets/base",
      "_model_module_version": "1.2.0",
      "_model_name": "LayoutModel",
      "_view_count": null,
      "_view_module": "@jupyter-widgets/base",
      "_view_module_version": "1.2.0",
      "_view_name": "LayoutView",
      "align_content": null,
      "align_items": null,
      "align_self": null,
      "border": null,
      "bottom": null,
      "display": null,
      "flex": null,
      "flex_flow": null,
      "grid_area": null,
      "grid_auto_columns": null,
      "grid_auto_flow": null,
      "grid_auto_rows": null,
      "grid_column": null,
      "grid_gap": null,
      "grid_row": null,
      "grid_template_areas": null,
      "grid_template_columns": null,
      "grid_template_rows": null,
      "height": null,
      "justify_content": null,
      "justify_items": null,
      "left": null,
      "margin": null,
      "max_height": null,
      "max_width": null,
      "min_height": null,
      "min_width": null,
      "object_fit": null,
      "object_position": null,
      "order": null,
      "overflow": null,
      "overflow_x": null,
      "overflow_y": null,
      "padding": null,
      "right": null,
      "top": null,
      "visibility": null,
      "width": null
     }
    },
    "044f9c265c2a47b288980e74f0d87f68": {
     "model_module": "@jupyter-widgets/controls",
     "model_module_version": "1.5.0",
     "model_name": "DescriptionStyleModel",
     "state": {
      "_model_module": "@jupyter-widgets/controls",
      "_model_module_version": "1.5.0",
      "_model_name": "DescriptionStyleModel",
      "_view_count": null,
      "_view_module": "@jupyter-widgets/base",
      "_view_module_version": "1.2.0",
      "_view_name": "StyleView",
      "description_width": ""
     }
    },
    "068a26b569604e99b1417dc77d2cb099": {
     "model_module": "@jupyter-widgets/controls",
     "model_module_version": "1.5.0",
     "model_name": "ProgressStyleModel",
     "state": {
      "_model_module": "@jupyter-widgets/controls",
      "_model_module_version": "1.5.0",
      "_model_name": "ProgressStyleModel",
      "_view_count": null,
      "_view_module": "@jupyter-widgets/base",
      "_view_module_version": "1.2.0",
      "_view_name": "StyleView",
      "bar_color": null,
      "description_width": ""
     }
    },
    "0852820aead44e85b0717c2ec03ac60f": {
     "model_module": "@jupyter-widgets/base",
     "model_module_version": "1.2.0",
     "model_name": "LayoutModel",
     "state": {
      "_model_module": "@jupyter-widgets/base",
      "_model_module_version": "1.2.0",
      "_model_name": "LayoutModel",
      "_view_count": null,
      "_view_module": "@jupyter-widgets/base",
      "_view_module_version": "1.2.0",
      "_view_name": "LayoutView",
      "align_content": null,
      "align_items": null,
      "align_self": null,
      "border": null,
      "bottom": null,
      "display": null,
      "flex": null,
      "flex_flow": null,
      "grid_area": null,
      "grid_auto_columns": null,
      "grid_auto_flow": null,
      "grid_auto_rows": null,
      "grid_column": null,
      "grid_gap": null,
      "grid_row": null,
      "grid_template_areas": null,
      "grid_template_columns": null,
      "grid_template_rows": null,
      "height": null,
      "justify_content": null,
      "justify_items": null,
      "left": null,
      "margin": null,
      "max_height": null,
      "max_width": null,
      "min_height": null,
      "min_width": null,
      "object_fit": null,
      "object_position": null,
      "order": null,
      "overflow": null,
      "overflow_x": null,
      "overflow_y": null,
      "padding": null,
      "right": null,
      "top": null,
      "visibility": null,
      "width": null
     }
    },
    "08e87f6b401e47568185f95d411b75f0": {
     "model_module": "@jupyter-widgets/controls",
     "model_module_version": "1.5.0",
     "model_name": "ProgressStyleModel",
     "state": {
      "_model_module": "@jupyter-widgets/controls",
      "_model_module_version": "1.5.0",
      "_model_name": "ProgressStyleModel",
      "_view_count": null,
      "_view_module": "@jupyter-widgets/base",
      "_view_module_version": "1.2.0",
      "_view_name": "StyleView",
      "bar_color": null,
      "description_width": ""
     }
    },
    "14e5c29d29cf4d8880acfa84b4531dc5": {
     "model_module": "@jupyter-widgets/controls",
     "model_module_version": "1.5.0",
     "model_name": "IntProgressModel",
     "state": {
      "_dom_classes": [],
      "_model_module": "@jupyter-widgets/controls",
      "_model_module_version": "1.5.0",
      "_model_name": "IntProgressModel",
      "_view_count": null,
      "_view_module": "@jupyter-widgets/controls",
      "_view_module_version": "1.5.0",
      "_view_name": "ProgressView",
      "bar_style": "",
      "description": "Processing: ",
      "description_tooltip": null,
      "layout": "IPY_MODEL_30a365efd1a649d4b39ad88bfef2f621",
      "max": 4,
      "min": 0,
      "orientation": "horizontal",
      "style": "IPY_MODEL_068a26b569604e99b1417dc77d2cb099",
      "value": 4
     }
    },
    "1ca574e0fc0b469fbe0dfecca06d8d34": {
     "model_module": "@jupyter-widgets/controls",
     "model_module_version": "1.5.0",
     "model_name": "ProgressStyleModel",
     "state": {
      "_model_module": "@jupyter-widgets/controls",
      "_model_module_version": "1.5.0",
      "_model_name": "ProgressStyleModel",
      "_view_count": null,
      "_view_module": "@jupyter-widgets/base",
      "_view_module_version": "1.2.0",
      "_view_name": "StyleView",
      "bar_color": null,
      "description_width": ""
     }
    },
    "1dd1f85817344958aae9b70877bd3455": {
     "model_module": "@jupyter-widgets/base",
     "model_module_version": "1.2.0",
     "model_name": "LayoutModel",
     "state": {
      "_model_module": "@jupyter-widgets/base",
      "_model_module_version": "1.2.0",
      "_model_name": "LayoutModel",
      "_view_count": null,
      "_view_module": "@jupyter-widgets/base",
      "_view_module_version": "1.2.0",
      "_view_name": "LayoutView",
      "align_content": null,
      "align_items": null,
      "align_self": null,
      "border": null,
      "bottom": null,
      "display": null,
      "flex": null,
      "flex_flow": null,
      "grid_area": null,
      "grid_auto_columns": null,
      "grid_auto_flow": null,
      "grid_auto_rows": null,
      "grid_column": null,
      "grid_gap": null,
      "grid_row": null,
      "grid_template_areas": null,
      "grid_template_columns": null,
      "grid_template_rows": null,
      "height": null,
      "justify_content": null,
      "justify_items": null,
      "left": null,
      "margin": null,
      "max_height": null,
      "max_width": null,
      "min_height": null,
      "min_width": null,
      "object_fit": null,
      "object_position": null,
      "order": null,
      "overflow": null,
      "overflow_x": null,
      "overflow_y": null,
      "padding": null,
      "right": null,
      "top": null,
      "visibility": null,
      "width": null
     }
    },
    "1f98420561d844d6accf9ab72c51543b": {
     "model_module": "@jupyter-widgets/controls",
     "model_module_version": "1.5.0",
     "model_name": "IntProgressModel",
     "state": {
      "_dom_classes": [],
      "_model_module": "@jupyter-widgets/controls",
      "_model_module_version": "1.5.0",
      "_model_name": "IntProgressModel",
      "_view_count": null,
      "_view_module": "@jupyter-widgets/controls",
      "_view_module_version": "1.5.0",
      "_view_name": "ProgressView",
      "bar_style": "",
      "description": "Processing: ",
      "description_tooltip": null,
      "layout": "IPY_MODEL_9bc604d7d5a14192a43eeaa9c7e7fc42",
      "max": 4,
      "min": 0,
      "orientation": "horizontal",
      "style": "IPY_MODEL_08e87f6b401e47568185f95d411b75f0",
      "value": 4
     }
    },
    "269af99b80ff44e5a938b5630d92f2a2": {
     "model_module": "@jupyter-widgets/controls",
     "model_module_version": "1.5.0",
     "model_name": "ProgressStyleModel",
     "state": {
      "_model_module": "@jupyter-widgets/controls",
      "_model_module_version": "1.5.0",
      "_model_name": "ProgressStyleModel",
      "_view_count": null,
      "_view_module": "@jupyter-widgets/base",
      "_view_module_version": "1.2.0",
      "_view_name": "StyleView",
      "bar_color": null,
      "description_width": ""
     }
    },
    "26a10907a99343ac841b138f4102e19d": {
     "model_module": "@jupyter-widgets/base",
     "model_module_version": "1.2.0",
     "model_name": "LayoutModel",
     "state": {
      "_model_module": "@jupyter-widgets/base",
      "_model_module_version": "1.2.0",
      "_model_name": "LayoutModel",
      "_view_count": null,
      "_view_module": "@jupyter-widgets/base",
      "_view_module_version": "1.2.0",
      "_view_name": "LayoutView",
      "align_content": null,
      "align_items": null,
      "align_self": null,
      "border": null,
      "bottom": null,
      "display": null,
      "flex": null,
      "flex_flow": null,
      "grid_area": null,
      "grid_auto_columns": null,
      "grid_auto_flow": null,
      "grid_auto_rows": null,
      "grid_column": null,
      "grid_gap": null,
      "grid_row": null,
      "grid_template_areas": null,
      "grid_template_columns": null,
      "grid_template_rows": null,
      "height": null,
      "justify_content": null,
      "justify_items": null,
      "left": null,
      "margin": null,
      "max_height": null,
      "max_width": null,
      "min_height": null,
      "min_width": null,
      "object_fit": null,
      "object_position": null,
      "order": null,
      "overflow": null,
      "overflow_x": null,
      "overflow_y": null,
      "padding": null,
      "right": null,
      "top": null,
      "visibility": null,
      "width": null
     }
    },
    "2c638cc95a92471e92911e12e7e9da75": {
     "model_module": "@jupyter-widgets/controls",
     "model_module_version": "1.5.0",
     "model_name": "IntProgressModel",
     "state": {
      "_dom_classes": [],
      "_model_module": "@jupyter-widgets/controls",
      "_model_module_version": "1.5.0",
      "_model_name": "IntProgressModel",
      "_view_count": null,
      "_view_module": "@jupyter-widgets/controls",
      "_view_module_version": "1.5.0",
      "_view_name": "ProgressView",
      "bar_style": "",
      "description": "Processing: ",
      "description_tooltip": null,
      "layout": "IPY_MODEL_6bed74ff50d746cd90adf3962a6adaee",
      "max": 29,
      "min": 0,
      "orientation": "horizontal",
      "style": "IPY_MODEL_cdc203960512439a9a846bfdd65a005a",
      "value": 29
     }
    },
    "309fbc06aecb47c7b9002190f2a32aa2": {
     "model_module": "@jupyter-widgets/controls",
     "model_module_version": "1.5.0",
     "model_name": "ProgressStyleModel",
     "state": {
      "_model_module": "@jupyter-widgets/controls",
      "_model_module_version": "1.5.0",
      "_model_name": "ProgressStyleModel",
      "_view_count": null,
      "_view_module": "@jupyter-widgets/base",
      "_view_module_version": "1.2.0",
      "_view_name": "StyleView",
      "bar_color": null,
      "description_width": ""
     }
    },
    "30a365efd1a649d4b39ad88bfef2f621": {
     "model_module": "@jupyter-widgets/base",
     "model_module_version": "1.2.0",
     "model_name": "LayoutModel",
     "state": {
      "_model_module": "@jupyter-widgets/base",
      "_model_module_version": "1.2.0",
      "_model_name": "LayoutModel",
      "_view_count": null,
      "_view_module": "@jupyter-widgets/base",
      "_view_module_version": "1.2.0",
      "_view_name": "LayoutView",
      "align_content": null,
      "align_items": null,
      "align_self": null,
      "border": null,
      "bottom": null,
      "display": null,
      "flex": null,
      "flex_flow": null,
      "grid_area": null,
      "grid_auto_columns": null,
      "grid_auto_flow": null,
      "grid_auto_rows": null,
      "grid_column": null,
      "grid_gap": null,
      "grid_row": null,
      "grid_template_areas": null,
      "grid_template_columns": null,
      "grid_template_rows": null,
      "height": null,
      "justify_content": null,
      "justify_items": null,
      "left": null,
      "margin": null,
      "max_height": null,
      "max_width": null,
      "min_height": null,
      "min_width": null,
      "object_fit": null,
      "object_position": null,
      "order": null,
      "overflow": null,
      "overflow_x": null,
      "overflow_y": null,
      "padding": null,
      "right": null,
      "top": null,
      "visibility": null,
      "width": null
     }
    },
    "38633515d5804f4886d15eee8d808b3f": {
     "model_module": "@jupyter-widgets/controls",
     "model_module_version": "1.5.0",
     "model_name": "ToggleButtonsStyleModel",
     "state": {
      "_model_module": "@jupyter-widgets/controls",
      "_model_module_version": "1.5.0",
      "_model_name": "ToggleButtonsStyleModel",
      "_view_count": null,
      "_view_module": "@jupyter-widgets/base",
      "_view_module_version": "1.2.0",
      "_view_name": "StyleView",
      "button_width": "",
      "description_width": "",
      "font_weight": ""
     }
    },
    "39d67c6ab9b444548e799c34fade4c96": {
     "model_module": "@jupyter-widgets/output",
     "model_module_version": "1.0.0",
     "model_name": "OutputModel",
     "state": {
      "_dom_classes": [],
      "_model_module": "@jupyter-widgets/output",
      "_model_module_version": "1.0.0",
      "_model_name": "OutputModel",
      "_view_count": null,
      "_view_module": "@jupyter-widgets/output",
      "_view_module_version": "1.0.0",
      "_view_name": "OutputView",
      "layout": "IPY_MODEL_8c90d68080914e51b496785e5c52d300",
      "msg_id": "",
      "outputs": [
       {
        "data": {
         "image/png": "iVBORw0KGgoAAAANSUhEUgAAAzoAAAHNCAYAAADWuQ48AAAABHNCSVQICAgIfAhkiAAAAAlwSFlzAAAPYQAAD2EBqD+naQAAADh0RVh0U29mdHdhcmUAbWF0cGxvdGxpYiB2ZXJzaW9uMy4yLjIsIGh0dHA6Ly9tYXRwbG90bGliLm9yZy+WH4yJAAAgAElEQVR4nOzdeZyVZf3/8dcBWWZykBAxUGGAqY8YqIGauZD1NdtExb6SmoZmX0vNzNww11xSXFIzy9IUl0zR3HMvFdGKwuWHNnx0gBESBAVkcQ7DAOf3x3UdORxnPbOcmZv38/GYxznnvq/7vj7nvka8P3MtdyqTySAiIiIiIpIk3YodgIiIiIiISFtToiMiIiIiIomjREdERERERBJHiY6IiIiIiCSOEh0REREREUkcJToiIiIiIpI4SnRERERERCRxlOiIiIiIiEjiKNEREREREZHE2aLYAYiIyObNzKYAExspcp67X9JB4XQYMzsGuBUY4e6zixxO4pjZfsCzeZszwPvAX4EL3P3NWPYY1BYiiaMeHRER6QzeAwY28HNNW1dmZreZ2YVtfd6kMrOfx4S0KzqSjb9L5cDRgAEvmdmg1pzYzJ6PSZKIdELq0RERkc5gg7u/24H17QXM68D6urq9gHeKHUSBluf9bs03szeBucCxwKWFnNTMtgB2I/QEiUgnpERHRES6DDM7CjgZGAGsA54CTnP3d3LKfAc4DdgJqAVmAee4+/NxfyYWvcDMLgCGAscAFwAl7r4m51wZYLK7T8oZCjUBOB/Y1t0HxHJfA84GRhH+3zo9xlXZgu9WTki+vgvsDxwMbABuAc4FrgMOi997irufGY/LxnUgYQjg1whDtP4MnOzuH8ZyvYALgSOAQcBy4HHgTHdfEstMAXYFbgR+Eev+X2BI3D8R+JK7Pxe/87nA52J9bwKXuPv9edfvp8BWwP8BfYB/AT9w97dyyk0ETgcqgIXAH4GL3H1d3P8Z4DLg88DWwBvAz939keZe31zuPs/MVmW/V33M7MD4/XYhtMMrsc6nc9oK4FYzu9XdU4XEIiLtR0PXRESkS4hJzh3A34ExhERgR+AZM+sZy4wF7gT+QkiG9gDeAh7NGaZUHl+vJgxnWtDCUM4h3ACPjnV+Mda3ENgH+DLQC3jezPq39HvG879E+I43EZK2Z4DK+H1uAc6I9ea6DngsxnUyYcjWVTn7bwJOJCRpIwjJ3ZeAx8ws9ya9P3AI8EVCsrM7YWjhVML1esnMhgMPA7MJidEuwJPAVDP7XF5cPwBKCdfloFj2+uxOMzsS+EP8GRW/76mxbsxsa2AaMAw4PH6/F4AHzexLDV/GhpnZtkAZML+B/fvH7/da/P57Enq0HjOz0YTfmX1j8Z8QrouIdDLq0RERka7iHGCau/8kfn4rzo94hdDrcBcwExgJeE5vwGTCTf3ewL3A4nj86uyQJjNrSRzPuPtDOZ8nAdXAUe6+Pp7vSOBt4HjiDXsLvOzuv4vnuQI4E0i7+7Vx25XAWYSelOdzjnva3afE91XxZv1IMzuR0INzFDDJ3W+PZeaY2U+B+wjXZnrcvh3wNXd/PXtiM9sQY8her3eAnYEFOT1GP4/XYn9Cm2StzvY+AW5mDxESqayzgUez3y/Gfgbwmfj5+8AAYG93nxO3nRp7ss7m4wsONCr2xvwWWAlMaaDYGYTE8ofunonHHR2/24nu/n0zez+WXdHBwy5FpJmU6IiISGcwwMxWN7Dvfwk9HDsSems+4u6vmtkywl/573L3D83sC8DvzawC+ASQ7a3Yuo1i/Xfe588Df84mOTGuxWb2RoyrpWbmvF8WX1+tZ9tWece9kPf5ZcLE+08SeodS9ZR5Kb6OZmOisyY3yamPu68xs88CN5jZCELvSEPX+R95n9+LMWFmJYTE9K6889+Y8/HzwJycJCfrbzS+Wl/WA2aWbZstCL1tM4D/cff/NnDM7sC92SQnxrTWzP5NYW0qIkWgREdERDqDpcAXGti3EOgX359vZmfn7S8lDh0ys1OBXxL+Yn8qISnYDniuDWP9IO9zH2CimR2Rt703sIaW+zD7xt0zsbepvm35c0Ly48omjn1jjAAr8sqsjK9lOdvyy3yMmY0n9ATdS5iztJgwT+eteornJ7CZnPd94+uqRqrrAwyrJxHuAfQ0s57uvraR409kY4KXAZa6e/61qq/O+q7DSsIQOhHpApToiIhIZ7De3asa2mlm2Tml1wA311MkexN8FPAPdz8x59htmlF/9ub7o+TBzLZsxnEQJvU/SZjon6+2medoC2UNfF7OxiQovxco+7mpG/98RxHmrBzu7hsAzKyQeSrvEyb6f7KRMssJK6R9vYH965qoY1Fjv1sN+ICPXyvitpZeKxEpEi1GICIinZ67rwZeB8zdq3J/CEORlsSiPQlDo3IdE1/ze0ByP2dvXnOToj2bGd4/gJ3qiWsLYFEzz9EW9sv7PAZY7O7LCcPtNgBj88rsE1//1Yzz516vnsCybJITHVNPuUa5ex3ghIUPPmJmJ5jZX+LHfwA7ACvzru86wvfbQNv7J7BP7iINZtabsJx0/rXSamsinZR6dEREpKv4BfDH+KDPewg3mN8DfkwY9jaTsCLbkXEifjVhSeNuwHrg82Z2L2GYXBr4gpntTFh5a0as45y4AEA5oYcmO7SrMZOB58zsN4RlmdPAoYTnsxxKWL2rI3zVzL5PGKa3F2Ep6msB3P3duHT02WY2n3AjP5LQQ/asu8+o94wbLQc+Z2a7EpK3vwPfMLNvE67dtwhzaRYAo81soLs3N8m7HLjNzH5GWFZ6Z8K1yz6f5lbCSmz3xWGL7xBWn/s1Yc7WT5tZT0tcQZgD9Bszu44wDPHC+PqrWGZ5fN3PzF4G3nT3dDvEIiIFUo+OiIh0Ce7+J8IzYA4iTM7/F+Ev7F919+wE/nMJN6j3Eyba9yDM0biesDTxlXGC+cWE5OgFYIS7/52wqtuBhJ6jS4BTCElLU3FNJzy7ZmdC78Mswo3/t929o5IcgPOAAwiLEFxPSAIuzNl/AiERm0zoRbkReJBNV0BryGWEXpUXCb1C1xGSkhsJCeYowsIH1xJWcPtjc4OOq8AdRxgO5/Hc1xNWcMPdlxGWcl4CPEqYB3RZrOuM5tbTEvGZSwcResVeISzUsCXhGUKzY5nFwG8Ic5T+RliWW0Q6kVQmk2m6lIiIiHRKOQ8M/bq7P1HkcEREOg316IiIiIiISOIo0RERERERkcTR0DUREREREUkc9eiIiIiIiEjiKNEREREREZHEUaIjIiIiIiKJoweGiuSYOXPmB4SnrHfk08xFREREpPkGArVjxozp21ghJToim+oF9O7Zs+fQjqgsk8lQV1dHjx49SKVSHVGltCO1Z7KoPZNF7Zksas9kaWl7rl27tlnnVaIjsqlFPXv2HDpq1KgOqaympobKykoqKiooLS3tkDql/ag9k0XtmSxqz2RReyZLS9tz1qxZrF27tsnRN5qjIyIiIiIiiaNER0REREREEkeJjoiIiIiIJI4SHRERERERSRwlOiIiIiIikjhKdEREREREJHGU6IiIiIiISOIo0RERERERkcRRoiMiIiIiIomjREdERERERBJni2IHIF2PmZUD84AR7j67yOE0yMz2A54FStx9TZHDEREREUmUTCbDC3OXsHBlDYP6lLLvsAGkUqlih/URJTqbKTOrBi539xtztp0KTAL2dfc3OyiOnwK/cvd1HVGfiIiIiLTeA7Pmc9YjLzNn6aqPtg3fuozJ40YzftTgIka2kYauCQBm9l3gPOCrHZjkbANchRJuERERkS7jgVnzmXDbtE2SHIA5S1cx4bZpPDBrfpEi25RuMAUzOxC4HviGu78at/UGJgPjgf7Av4EfZ/fnHd8P+BXwP8CWwN+AE939HTPrBlwJHAn0AaqAM4FXgQVACvjAzH7o7lPMbALwM+DTwGJCr9PvYz1TgHVABdDf3Uea2SeB64CvAGXA88BJ7l7dphepHa2gJ++m19M7U1fsUKSV1qxZr/ZMELVnsqg9k0XtWTyZTIbTHp7Jhkym3v0bMhkmPfoyh4zcoejD2JTobObMbF/gTmCCu7+Ys+tS4IvAWELCcRnwqJkNq+c0UwgJyE7AeuC3wK3AAcDhwP7AKGA58F3gdmD7uP9ZoK+7rzGz3YBbgEOBvwJ7AY+b2evu/lKs62DgWOAv8fPNhARqZ6AW+AMwFdij0GuSyWSoqakp9PAWSafTzOg2kBnzawnhS5en9kwWtWeyqD2TRe1ZFPMWL+PtZasbLVP1/iqeqVzA3uX9m3XOdDq9yWtTMg0kWfmU6GzedgEuB6a5+5N5+44DfpDtGTGzc4GTgb0JCxEQtw8AxhEWJlget00C5pvZp4C+hCSoxt3XA7ea2W3uvsHM8uM5FnjU3Z+Kn18ws3uAo4FsolPt7o/GevoRepy+4O7vxW0XAG+Y2dBCL0pdXR2VlZWFHt5y3YZ0XF0iIiIirbAq3bz1nWbOrqJf+r0Wnbu6urqAiBqmRGfzdiRhmNilcejYjQBxONhWwEd3++6+2swWA+XkJDpAtofn1bzEZT2wA3A3oRfnHTN7Cng0bttQTzzDgf3NLPe/oG5AbhL2ds77IYShb7lZSVV8LQeal+7n6dGjBxUVFYUc2mLpdJo9qhcycOBAevXq1SF1Svupra1l0aJFas+EUHsmi9ozWdSexVNOGfdMb7rcmB0rGNGCHp3q6mrKy8spKSlpsnxVVRV1dU0PWVSis3k7x91vMLP5wH1m9h93nwY09i9GfvKQ7WPczt2XNnDMnma2F6Hn5yLgxDhkLl8a+K27n9xI/bmrs7UkzmZLpVKUlpYWeniLbcVahvQt7dA6pX3U1HSnZpHaMynUnsmi9kwWtWfxDO23Jec//trHFiLIVdG/jP1HtHyOTklJSbPas7nn1aprm7d1AO7+CGHhgfvMbAiwBFgF7JgtGHt5tgXm5J2jmtA7s3NO2R5mNii+721mpe7+krufDYwkzNfZpZ545uSeJx6/vZl1byD+ufF1x5xt2ff5cYqIiIhIK6VSKSaPG023BpKNbqkUlx84uugLEYASHdnoQsLKag8CvYG7gLNjovEJQiI0l41zZQBw9xWEoWiTY9kSwsIFT5tZirAi2u1m1j9+HkP4vZvPxt4gi3XcDOxtZseaWU8z2xX4J/Ct+gJ29yWEYW0Xm1m/mIxdCjzr7gva5rKIiIiISK7xowYzdeJYKvqXbbK9on8ZUyeO1XN0pHNx9w3AdwhLNE8BTgNeISQa84GBwP5xQYF8JxPmxrwBLCSsvnawu2cIDyBdD7xF6CW6DjgiLh7wCiFxmgGc4O6zgSMIy0+vAP4MXOXuUxsJfSKwGphNmKuzAjisoIsgIiIiIs0yftRgZk86mGdPPIC7jtqX5046gNmTDu40SQ5ojs5my93L69m2nPCMmqzvNXBsNWERgOznZYSFDeoruxz4dgP71hJWccvddi9wbwPlj6ln22Ia7vF5LjdOEREREWk7qVSKscO3LXYYDVKPjoiIiIiIJI4SHRERERERSRwlOiIiIiIikjhKdEREREREJHGU6IiIiIiISOIo0RERERERkcRRoiMiIiIiIomjREdERERERBJHiY6IiIiIiCSOEh0REREREUkcJToiIiIiIpI4SnRERERERCRxlOiIiIiIiEjiKNEREREREZHEUaIjIiIiIiKJo0RHREREREQSR4mOiIiIiIgkjhIdERERERFJHCU6IiIiIiKSOEp0REREREQkcZToiIiIiIhI4ijRERERERGRxFGiIyIiIiIiiaNER0REREREEkeJjoiIiIiIJI4SHRERERERSZwtih2ASGPMbD/gWaDE3dcUORwRERER6SKU6GwGzKwa2AbY1t1X5+07FfglcKy7T2njep8DdgPM3d/J2V4OzHP3VFvWJyIiIlIsmUyGF+YuYeHKGgb1KWXfYQNIpXSrU0xKdDYfq4FDgDvzth8JvNeO9aaBq4HD27EOERERkaJ5YNZ8znrkZeYsXfXRtuFblzF53GjGjxpcxMg2b0p0Nh+PAUeRk+iYWQXQH/hPzrYUcBnwHeCTwJvAT9x9mpmNBGYAe7r7/4tlpwP/dvdTGqj3SuBsM9vP3Z+rr4CZDQduAHaPm54CTnD3D3KKfcPMriD0TD1D6IFaGY/PAF939yfM7ClgbM5xWwAL3H1o45dHREREpOUemDWfCbdNY0Mms8n2OUtXMeG2aUydOFbJTpEo0dl8PAzcaWbbuvviuO1I4D42JhgARwMT47ZFwDnAfWY20N1fN7OrgV8B+xGSoe2AAxqpdwlwAfBrM9vV3dfVU+YmoBoYCPQhJDrnAafllPkO8HmgBHiakIydlH8id/8oFjMrA14Gbm4kvqJbQU/eTa+nd6au2KFIK61Zs17tmSBqz2RReyZLZ2nPTCbDaQ/P/FiSk7Uhk2HSoy9zyMgdNIytCJTobD6WA08C3yYkKgBHxJ/cROePwEPuvgLAzO4Gfg4MBuYBlwCvmdn3gQuB49z9wybqvgE4DjgZuKae/d8EMu6+FnjfzJ4A9s4rc6W7L40x3Qj8pKkvDNwIVAFXNKPsRzKZDDU1NS05pGDpdJoZ3QYyY34tUNshdUo7U3smi9ozWdSeydIJ2nPe4mW8vWx1o2Wq3l/FM5UL2Lu8fwdF1fWk0+lNXpuSaSCxzKdEZ/NyO/Az4Fdm9jlgg7u/ama5ZT4BXGtmXycMXcvqBeDutWZ2PPAccJe7P9lUpe6+3sx+BDxiZn+qp8huwGVmtjPQk/B7+e+8Mv/JeT+H0JPUIDP7HqHXaVd3b95/DVFdXR2VlZUtOaR1ug3puLpERESkzaxKN29B2Jmzq+iXbs8p0clQXV3dpudTorN5eQy42cw+TRi29sd6ytwA7AzsS+gNGRZfcw0FPgSGm1k3d9/QVMXu/oKZ/YXQu3J+druZfRL4C/Bb4BvuvtLMLga+kneK3DpSQIP/spjZCOBa4CB3b/G/Kj169KCioqKlhxUknU6zR/VCBg4cSK9evTqkTmk/tbW1LFq0SO2ZEGrPZFF7Jktnac9yyrhnetPlxuxYwQj16DQonU5TXV1NeXk5JSUlTZavqqqirq7pIYtKdDYj7r7WzKYC/xt/vlRPsT2Am939LQAzG52708y2Aa4CDiQMgTsZuK6ZIZwBVBKG0GXtCJQBV2UXFwBG5x8IGDAzvh8OvFNPGcysBJgKXN3Q4gdNSaVSlJaWFnJoQbZiLUP6lnZondI+amq6U7NI7ZkUas9kUXsmS2dpz6H9tuT8x1/bZLW1fBX9y9h/hOboNEdJSUmz2rO517JbawOSLud24HjgHXevrmd/NbC7mfU0sz0Jc3hg41Cxa4BH3f15wmIAl5hZs8ZeuftCwhyfK3M2zyf01nzBzD5hZj8BtgW2NbPcRPx0M9vKzAYC/wc80EA11xIWQLi4OTGJiIiIFCqVSjF53Gi6NXDj3S2V4vIDRyvJKRIlOpsZd/8HUEf9w9YAJgE7ERYvuJTQY/MA8JCZnQV8Azgznms6cD/wuxaEcC2wIieed4CzgVuBt4F+hBXWehGWroaQCP0JeBWYDcyKsdXneMKwuxozW5Pzo4kwIiIi0ubGjxrM1Iljqehftsn2iv5lWlq6yDR0bTPg7uV5nz+T93m/nPevACPzTnFozvvJecdObKTe/erZVgeMyNt2BR9fGW1Qzvvu8fXhBupJ1fdeREREpCOMHzWYQ0buwAtzl7BoZZpBW5Wwz9AB6skpMiU6IiIiIiKtlEqlGDt822KHITk0dE1ERERERBJHiY6IiIiIiCSOEh0REREREUkcJToiIiIiIpI4SnRERERERCRxlOiIiIiIiEjiKNEREREREZHEUaIjIiIiIiKJo0RHREREREQSR4mOiIiIiIgkjhIdERERERFJHCU6IiIiIiKSOEp0REREREQkcZToiIiIiIhI4ijRERERERGRxFGiIyIiIiIiiaNER0REREREEkeJjoiIiIiIJI4SHRERERERSRwlOiIiIiIikjhKdEREREREJHGU6IiIiIiISOIo0RERERERkcRRoiMiIiIiIomjREdERERERBJni2IH0JHMbAjgwM7u/mYTZfcDngVK3H1NB4QnIiIiIiJtJDGJjplVA9sB6+OmxYRE5Qp3/w+Au78N9C5GfO3FzMqBecAId58dt3UH7gW2Bb7i7jVtXOeFwPnA2rhpDVAJ/MLdH2nLukRERKRjZDIZXpi7hIUraxjUp5R9hw0glUoVOyyRgiVt6NrJ7t4bKAO+BrwP/NvMvlzcsDrc74BhwDfbOsnJMcPde8frvS0wFbjfzAa2U30iIiLSTh6YNR+77CG+9Jun+M6d0/nSb57CLnuIB2bNL3ZoIgVLTI9OLnevI/QwnG5m64CbzezTwA7k9H7EXqBLgPHAFwm9QCe4+1P554zD3q4H9gK6A48AP3L3lXGY20PAt4FrYz0vAEe4+/LYAzIaeBk4hdADcgLQF7gY2BK4yt0vjXX1A34F/E/c9zfgRHd/p6nvbmaXA2OBfdz9g5ztuwHXAKOAWuB+4MfuXtdU/E3V6e61ZvZ74JeEBGtRrPNU4EeERGgBcI673x/3fR64DvhsjOdBQqKaNrNjgMvd/VOx7HPAU8AI4GBgFXCWu98Z9w8DbiS0zVLganf/Vdw3Bejt7oc39T1EREQ2Rw/Mms+E26axIZPZZPucpauYcNs0pk4cy/hRg4sUnUjhEpno5LkGOAsYAyypZ//pwHeBV4HfEm70d8otYGYpQiLwIjCYkHz8CbgKOD4W+wRwBPCF+H4G8H/AFXH/3sBjhJv+X8e67gc+DUwAbjGzm9x9CTAFWBfjWB/L3goc0NgXNbPTgCMJSU7+d70HuBPYjzDE7yXgP4TkrTnxN1bvlsBphPlPM+O2scBlwG7AG8BE4I9mNtjd3wPuACbH77Ut4foeT0h+6nMS8L34cw5wg5ndE5Pa+4HngEOAzwDTzKzS3Z9uKvbOYAU9eTe9nt6ZumKHIq20Zs16tWeCqD2TRe1Zv0wmw2kPz/xYkpO1IZNh0qMvc8jIHTSMTbqcxCc67r7YzD4AhlJ/ovOIu88AMLM/AxPNLH9I327ASGDvOBSsJvbSPGlmP4hluhPmAy0HlpvZdEIPRFatu98Y63mMkERc7u5rzOzhePwwMwMYR+h1Wh7LTwLmm9mn3P3dBr7qMcCZwOnuXl8/864xhvXxXNPi98pqKv58e5hZdpGGnsB7wDE5CzdMBz6V7VUys7sISc1IwtypvsCH7r4BWGRme8b3DXnJ3Z+M55oKXAAMir1fOwNfjm3zqpkdCjTZ+9WQTCZDTU17jfjbVDqdZka3gcyYX0vo2JIuT+2ZLGrPZFF7fsy8xct4e9nqRstUvb+KZyoXsHd5/w6KqmnpdHqTV+naWtqemQYS83yJT3SiLdi4SEG+eTnvawg3/D3zygyP25fGRCT3vLn/1eefqyTn839z3meTgXfyPvcmDP2CcMOeW9d6wpCyhhKdg4FJwMVm9py7v5y3/3+A883sMzHuHoQFC3I1Fn++Ge6+J4CZ9ST0BN1tZqe7+x8J1+t8MzsM2CbnuF7x9WeEXqzTCcPSbgdmN1JffmzE+IYDK919WXanuz/TyHmaVFdXR2VlZWtO0TLdhnRcXSIiIjlWpZu3sOzM2VX0S7/XztG0XHV1dbFDkDbU1u2Z+ETHzCoIQ80auolurBchKw2sdveyBupozrk+tq+BHoxsKruduy9tRmxZh7n762Y2AHjQzHbLDl8zsx0JSc1pwE1xHswdhGSn0Ribw93XAs+b2Y3Aj4E/ElZlm0DonXoNSBGG42WPudnMHgAOIiRpr5rZ4e7+YAPVNBTbBtp4UY0ePXpQUVHRlqdsUDqdZo/qhQwcOJBevXo1fYB0arW1tSxatEjtmRBqz2RRe9avnDLumd50uTE7VjCik/XoVFdXU15eTklJY3+Xla6gpe1ZVVVFXV3TQ1ATn+gAFwKzYhJQXuA55gBbmtlQd58HYGZlQM8WJiPNUU24ed+ZMMQLM+sBbOPuCxs5LptEnEVY+ODPZvblOIflc4Rha9kJ+qm47fU2jh029gLtATzk7q/EOnfPLWRmW8drdytwq5ldABxHWJSgJeYCZWY20N2ziyAcDHzg7s8X8gVSqRSlpaWFHFqQrVjLkL6lHVqntI+amu7ULFJ7JoXaM1nUnvUb2m9Lzn/8NeYsXdVgmYr+Zew/onPO0SkpKVF7Jkhz27O5v4tJW176I2Y2yMx+SZig/v3WnMvdXydM3r/OzPqbWV/CEs53tD7Sj9W1ArgbmGxm25tZCWFS/9MxQWnq+PWE1dOGADfEzdVAiZntamafJCwCUEuY49Lqf7XMLGVmYwiLCdyZU+cuZlZqZjsRErAVwHZmtj3wtpkdYGbdzGwrwmpwVS2t291fBV4BLjGzLc1sJHALjQ+7ExEREcIN4+Rxo+nWwI1jt1SKyw8c3SmTHJGmJC3Rud7M1phZLfD/CKuL7ZFdbKCVjiRcr2rCDXl3wgIA7eHkWMcbwELC6msHu3uzZl7FVc2+BXzXzE5y978TVnp7Pp6zmrDM9ShCUlWIPeK1XgN8SFiF7lrgyrj/F4Qew/cJq8hdEF+vJ/Q4HUdYYW01YbW2VbFMIcYB5YTFJh4FLnL3Jwo8l4iIyGZl/KjBTJ04lor+m47Qr+hfpqWlpUtLNXfVApHNwcyZM+f27Nlz6KhRozqkvpqaGiorKxkxYoS63hNA7Zksas9kUXs2LZPJ8MLcJSxamWbQViXsM3RAp+3JUXsmS0vbc9asWaxdu3bemDFjhjVWbnOYoyMiIiIiTUilUowdvm2xwxBpM0kbuiYiIiIiIqJER0REREREkkeJjoiIiIiIJI4SHRERERERSRwlOiIiIiIikjhKdEREREREJHGU6IiIiIiISOIo0RERERERkcRRoiMiIiIiIomjREdERERERBJHiY6IiIiIiCSOEh0REREREUkcJToiIiIiIpI4SnRERERERCRxlOiIiIiIiEjiKNEREREREZHEUaIjIiIiIiKJo0RHREREREQSR4mOiIiIiIgkjhIdEWcSs1sAACAASURBVBERERFJHCU6IiIiIiKSOEp0REREREQkcZToiIiIiIhI4ijRERERERGRxFGiIyIiIiIiiaNER0REREREEmeLYgcgksvMjgJ+A+zo7gvz9j0PLHT3I4oSnIiISMJkMhlemLuEhStrGNSnlH2HDSCVShU7LJE2oURHOhV3v9PMJgLXAhOy283saGBU7jYREREp3AOz5nPWIy8zZ+mqj7YN37qMyeNGM37U4CJGJtI2lOhIZ3QCMMvMvuLuT5vZVsCVwJnAejO7F/gi0BN4CfiBuy8AMLOzgBOBbYAFwMXufmcxvoSIiEhn9cCs+Uy4bRobMplNts9ZuooJt01j6sSxSnaky1OiI52Ou1eZ2SXADWY2CrgUeBP4Q/zpAwwFUsBUQu/Pt8xsL+AUYE9CkvMV4H4ze8rdl3T8N2meFfTk3fR6emfqih2KtNKaNevVngmi9kwWtedGmUyG0x6e+bEkJ2tDJsOkR1/mkJE7aBibdGlKdKSzugI4ApgCHAyMcfeMmZ0AbOHuHwKY2YPAOfGYvsAGoMbdM8BTZtbH3Te0pOJMJkNNTU0bfY3GpdNpZnQbyIz5tUBth9Qp7UztmSxqz2RRewIwb/Ey3l62utEyVe+v4pnKBexd3r+DomqZdDq9yat0bS1tz0wDSXo+JTrSKbl7nZn9AJgOXOLulXFXBfBLM9sDKAG6A0vjvr8CrwBvm9kzwOPAHcCHLam7rq6OysrKpgu2lW5DOq4uERHZ7K1Kr2lWuZmzq+iXfq+do2md6urqYocgbait21OJjnRa7v6imQG8CGBm3YC/AC8An3H398zsOMLQNty9FhhnZrsABwE/Ak43szHuvqK59fbo0YOKioq2/TINSKfT7FG9kIEDB9KrV68OqVPaT21tLYsWLVJ7JoTaM1nUnhuVU8Y905suN2bHCkZ04h6d6upqysvLKSkpKXY40kotbc+qqirq6poegqpER7qSbYEhwGHunv0T0+jsTjPrAZS4+2vAa2Z2GVAJ7A/8ubmVpFIpSktL2y7qJmzFWob0Le3QOqV91NR0p2aR2jMp1J7JovbcaGi/LTn/8dc2WW0tX0X/MvYf0fnn6JSUlGz27ZkkzW3P5v5e6oGh0pW8RxiG9gUz621mRwKfA/qY2ZbA6cBjZrZ9LD8C6AfMKUq0IiIinVAqlWLyuNF0a+BmsVsqxeUHju70SY5IU5ToSJfh7uuAHwJnA4uBscChwH+BKuCXwCzgFTP7kLAi21nu/mpxIhYREemcxo8azNSJY6noX7bJ9or+ZVpaWhJDQ9ekU3P3VN7nO4H85+J8Juf9CfFHREREGjF+1GAOGbkDL8xdwqKVaQZtVcI+QweoJ0cSQ4mOiIiIyGYqlUoxdvi2xQ5DpF1o6JqIiIiIiCSOEh0REREREUkcJToiIiIiIpI4SnRERERERCRxlOiIiIiIiEjiKNEREREREZHEUaIjIiIiIiKJo0RHREREREQSR4mOiIiIiIgkjhIdERERERFJHCU6IiIiIiKSOEp0REREREQkcZToiIiIiIhI4ijRERERERGRxFGiIyIiIiIiiaNER0REREREEkeJjoiIiIiIJI4SHRERERERSRwlOiIiIiIikjhKdEREREREJHGU6IiIiIiISOIo0RERERERkcRRoiMiIiIiIolTcKJjZgfkvB9tZtea2Q/aJiwREREREZHCFZTomNnZwG3x/TbAX4FdgTPN7IK2C09ERERERKTlCu3R+T7wzfj+O8Bcd98P+BpwVBvEJSIiIiIiUrAtCjxuW3d/Ob7/CnAvgLu/ZWYD2yQy2WyZ2WHAfsBPgOHAFHffsxXnc+BKd7+5bSIUEREpvkwmwwtzl7BwZQ2D+pSy77ABpFKpYocl0mkUmuh8EIesrQHGAufDR8PYatsotk7JzKqB7YD1cdNi4FngCnf/T5HC6hTMbApwNFAHpICVwAzg1+7+eAtOdR/h9+pdYCGhB7Fg7m6tOV5ERKSzeWDWfM565GXmLF310bbhW5cxedxoxo8aXMTIRDqPQoeuPQg8DTwPVLn7TDPrDVxHuOlPupPdvTdQRhiu9z7wbzP7cnHD6hTujdemNzAGeAS428x+1twTuHvG3U92963dfZS7/7O9ghUREelqHpg1nwm3TdskyQGYs3QVE26bxgOz5hcpMpHOpdAenZ8CpwJ9gRvitm5Af2BiG8TVJbh7HVAJnG5m64CbzezT7r7ezIYA1wN7Ad0JN/w/cveVZnYMcC5wGXAR4TreCZzk7uvM7EJgN+BD4Ovu3sfMSoArgYOArQk9JSdle5HM7CzgRGAbYAFwsbvfaWZVwHXufn02bjP7A1Di7kea2WdjnKOBdYRhiKe6+5oY56nA1THOrYG/AEfH797YtckA84EbYy/Yo2Z2bxze2NR32T1ejx2AZ4CngNPdvTzu/zJwKTCS0Gt0o7tfHPfVd+2qgcvd/cbGYi6WFfTk3fR6emcavaTSBaxZs17tmSBqz2RJSntmMhlOe3gmGzKZevdvyGSY9OjLHDJyBw1jk81eQYmOu68FJudtqwEOqP+IzcI1wFnAGDP7F/AQ8CIwGNgS+BNwFXB8LL8dsAfwaWAI8DfgP4ReMYA9gfOAI+PnycDn4vblwM+B+81sBPAF4JS4bwFh3tT9ZvYUcAdhwYjrAcysO3Aw8F0z60VIIm4nLC4xiJCQXQScGestJyQOn43vZwLjganNvTDu/oSZvRmPu6KJ79ITeJSQ6JwLfAm4hTBMEjPbPl7bk4A/AjsBT5jZHHe/q4Fr1yKZTIaamppCDm2xdDrNjG4DmTG/loSP+tx8qD2TRe2ZLAloz3mLl/H2stWNlql6fxXPVC5g7/L+HRRVx0un05u8StfW0vbMNJDo5yu0RwczO5bQezPY3YeZWU9CT8DkJg5NJHdfbGYfAEOBDKG3Ye+YANbEnoYnc5411Bs4N+6vNLM/AQeyMdFZT+ipyJhZN+AYYIK7LwQws3OBkwnJUl9gA1ATe1KeMrM+7r7BzO4ALjCz4e4+B/hiLPtUrO8TwIXuXgvMMbNfExK2bKJTBpzj7h8Cb5jZ/wNGFHKJgKHN+C5bEHqlLnH3NPCYmf2N0DMGcATwhrvfHj/PMrMbCXODsonOR9eugDipq6ujsrKykEML021Ix9UlIiJd2qr0mmaVmzm7in7p99o5muKrrq4udgjShtq6PQtKdMzsZMLQoduAz8fN2wAnmRmba7JDuJ7rCSuFdQeWmln+/uyfV5a7e+6/QG8DX835vCDnRn0AIeF4yMxyb967E4Z3PQK8ArxtZs8AjxN6cj5097lm9iKhV+ci4FBgahwiN5SwNHjun7aqgMExIQF4391zBwHXACXNuxybyF6bpr4LwEp3X56z719sTHSGA7ubWe6/9ClCIpW1oNAkB6BHjx5UVFQUeniLpNNp9qheyMCBA+nVq1eH1Cntp7a2lkWLFqk9E0LtmSxJac9yyrhnetPlxuxYwYiE9+hUV1dTXl5OSUkhtyXSmbS0Pauqqqira3oIaqE9Oj8CDnb3Z83sOAB3f8fMDiXM8djsEh0zqyAMUZtNuBlf7e5lDZSFcGOfK0XoCcpal/M+24+3l7vPbCCEcWa2C2Hey48I84bGuPsKwtC008zsYuAQ4LB4TEP/0ufGsaGBMs0Wk6ZdgCdp4ruY2QTCqm25cmNIA4+5+7hGqlzXyL4mpVIpSktLW3OKFtmKtQzpW9qhdUr7qKnpTs0itWdSqD2TJSntObTflpz/+GsfW4ggV0X/MvYfsXnM0SkpKenS7Smbam57Nvd3u9BV13YAnqtn+8vA5vocnQuBWe7+OjAH2DL2mABgZmVmtnVO+T5mlvunliHAf+s7cUxWlgI75243s/L42iMOVXstTsrflZCs7B+LTo3n/yGwxt3/HrfPAbLDDrN2BOa5e6sTnBzfI/Tk3N/UdwGWAP3MLDdJ3D3n/RxglJmlco79VJxvJCIikmipVIrJ40bTrYEbvW6pFJcfOHqzSHJEmlJoorOQ0GuRbzdgWeHhdD1mNsjMfknoKfk+QEx2XgKuM7P+ZtYX+B1hOFlWLWHuTImZ7USYe/JII1X9DjjXzHaMic2pwL/MrBQ4nTCXZftYdgTQj5AUZBOlh4HL2TiPBcIQtzrgfDPrZaGr6RTCkMRWi8nd8cC1wGnZOTlNfJd/E1ZMmxRj+hrh4aFZf4rf7dx47YYRljo/pS1iFhER6ezGjxrM1Iljqei/6cCRiv5lTJ04Vs/REYkKHbr2IDDVzM4DUmY2mpDknAfc3VbBdWLXm9m1hOFmq4C/AnvkPTD0SMLS29WEFcP+SpiEn/UBMIswJ6YvIQlqbPnji2O56YSVyV4lLJ9cExOtwcArMVmYD5zl7q/mHH87MIGwUhkA7r7azL5JWD76ZEJPy+3AL5p7IepxmJkdEt/XEVZpm+DujzXnu8BHw9duAn5MSNCuIayyhrsvNbODCSvYnQO8R7h2V7ciZhERkS5l/KjBHDJyB16Yu4RFK9MM2qqEfYYOUE+OSI5Uc5dnyxWHCf2eMME92yu0Lm47LW9yu+SJz6e53N0/1YF1Hgt8z9337ag6CxWXwMbd18fPPwe+3BGxz5w5c27Pnj2Hjho1qr2rAqCmpobKykpGjBihMcYJoPZMFrVnsqg9k0XtmSwtbc9Zs2axdu3aeWPGjBnWWLlCn6NTC0w0s58QngOTBuZk/yIvnYuZfYbQi3J8U2WLLc69ceC+2GM4BPguIYkWEREREWmWQpeXnunuY+ISwDPaOCZpQ/EZM4cBv8wbPtYpxecGfZvwPKFlwArgPuCXRQ1MRERERLqUQufo9DazkXHSvbSQu08BpnRQXT8krLbWZcRlp/cpdhwiIiIi0nUVmuj8HrjHzJ4E5gJrc/Zl3P2mVkcmIiIiIiJSoEITnWvi64h69mUIK2aJiIiIiIgURaGLERT6/B0REREREZF2p4RFREREREQSp9BV1zYQhqjVy927FxyRiIiIiIhIKxU6R+dENk10ugM7At8gPK9FRERERESkaAqdo3NjfdvN7M/AD4DbWhOUiIiIiIhIa7T1HJ1phF4dERERERGRomnrROcgoK6NzykiIiIiItIihS5GsIiPL0ZQCpQBv21tUCIiIiIiIq1R6GIE9c3RSQOV7v5IK+IRERERERFptUITnenu/tf8jWZWYmaHu/vdrYxLRERERESkYIXO0Wmo16YE+EOB5xQREREREWkTLerRMbPjgO8DvczspXqKDAKWt0VgIiIiIiIihWrp0LUnCIsO7A54PftfBu5obVAiIiIiIiKt0aJEx93fAa43sx3c/cz6ypjZyDaJTEREREREpEAFLUaQTXLMrFveOYYALwJbtT40ERERERGRwhT6HJ1hwJ3AbkD3vN2vtzYoERERERGR1ih01bXrgdXAycB64P+AW4CXgC+2TWgiIiIiIiKFKTTR+TxwmLv/Dljn7re4+/8BdwP1zt0RERERERHpKIUmOiXuviK+X29mveP724FjWx+WiIiIiIhI4QpNdGaZ2Wlm1h2YB0yI2wcQlp8WEREREREpmkITnQuBXwBlwO+AW8zsdWAm4Vk7IiIiIiIiRVPo8tJPmNkQd/8AuMHMVgB7A1XAb9sywI5gZo8Ak4G/A2cAG9z9iiLE0RP4J/BN4APgLuAX7j6jo2PJZ2ZPAf909/OaUdaBK9395vaPTKTzyWQyTJuzmIUraxjUp5R9hw0glUoVOywREZHNSkGJDoC7vwtgZlu4+52E5aY7lJl9GjgH+ArQD1hOSFYucfdXcsoNCSF7bzM7Gjja3Q/IOdWphPlFI4CngYl59dwEvO3ul5jZGsDc/e0CY/4MMBt43N2/mbvP3dea2c+AaUAf4PqOSHLiNbkpfkwBPYG1QCZuuyTvejXK3a2AGBq8LnH/14FJwCjgE8AC4GZgsrtnzOxpYJW7H5p33I7Aa8BB7v5kS+MSaalnF6zk8CeeZO6yDz/aNnzrMiaPG834UYOLGJmIiMjmpdDn6HQDLgCOIczLKTGzUuBq4BR3X9tmETYcw67A84QepDHAYsIDS88AXjKzL2aThJiU9I7v7wDuyD2Xu1cBezVUV1xRLvu+d0Plmun7wJ+BcWY2yN0X5tX1OFDRyjpaJPeamFk5Yd7VLu4+uwPDaPC6mNmewP3AccCDQC2hve4lJGaXAScQ5o59PV7DrBuA+5TkSEd4+D/vcPb0/7Ihs+n2OUtXMeG2aUydOFbJjoiISAcptEfnQsLqatcCl8RtWwJfAC4Gzmp1ZE37NfCYu0/K2VYNnGRmbwF12Y1m9lnCs39GA+sIN8inuvuauP9c4LR4zC8IQ8dedPcLzWwK0NvdD49lewNp4Evu/pyZHQP8DNgOeB/4lbtfXV/AZrYF8F3gKKAvoefospz9pcAUYBwwHziRMOfpK7GuakLPy3HAk+5+gpk9B/zD3SfFBPRK4EhCj1AVcGb2Jj8ef7m739iM65sfe249U4ANQE38PrXA+e7+20Lqaeq6APsB89z9rpxtL5jZt4i9Tu5eZWaXAL82s8+6+xozOxz4HLBjS79vR1pBT95Nr6d3pq7pwtJpZTIZzn5i1seSnKwNmQyTHn2ZQ0buoGFsIiIiHaDQROe7hKFAr5jZxQDuvsTMvg08SzsnOmY2gDAnaJ/69rv7tTllewFPEYamfRMYBDwCXAScaWbjCcPfDgBeBq4h9BC92Iw4tif0GOzp7rPMbAzwlJn9LXfoXI5xhAes/o2QGJ3Dpjf0lwE7A5+O5W7j4210RIx1Tj3nPxzYnzC8azmhnW43s+3dva3vog8Dfgr0B74B3G9mL7n7awWcq6nr4oCZ2XHAHdkeQ3fPb6MrCEnez8zsSkIP4xnuvqQlwWQyGWpqagr4Gi2XTqeZ0W0gM+bXEvJF6armLV7G/OUfNlqm6v1VPFO5gL3L+3dQVNIa6XR6k1fp2tSeyaL2TJaWtmcm08BfFfMUmuhs08CNfBVhrkx7GxZf32pG2a8T5nRc6O61wBwz+zUhGTuTcJP+pLu/AGBmZwBHNzOOPoSV61YDuPtMM9vG3Tc0UP444C5332BmfwZ+Y2Zj3X1a3P8N4AZ3/2+M5SrC/KNcj8ehdvXpS+ixqnH39cCtZnZbI/G0xnx3z87redDMXgUOJMyHaammrsuDwFXAb4BrzewfwDPA3blzpdy9zsx+QJhntRPh9/GWlgZTV1dHZWVlAV+jQN2GdFxd0m5Wpdc0q9zM2VX0S7/XztFIW6quri52CNKG1J7JovZMlrZuz0ITnbfNbFd3f5UwRyJrf2BR68NqUjaN+yh+MxtL6LkhxrTA3SuAocDcmORkVQGD41CvgfEzAO6+wszebGYclYS5LbPN7HngScLQs6X5Bc1sO+BrhGFuuPtqM3uAcJOfvaEfSBh+l/WveupsbBGEuwm9OO/EVdIejdvaI9HxeuIa1NKTNOe6uHsGOMvMLickfl8EfghcYmbfi3OMiGWnm9mdhOFvO8djW6RHjx5UVHTMNKl0Os0e1QsZOHAgvXr16pA6pX2UU8Y905suN2bHCkaoR6dLSKfTVFdXU15eTklJSbHDkVZSeyaL2jNZWtqeVVVV1NU1PVip0ETnTsJf8a8EUmZ2KLAbYUJ4vfNT2tibhGRnBLAQIP71vzdAnDdzYSzb0N1j9ga4GznzeaLGEoPu2TfxJvp4M7sCOIQwnOssM/u8u8/LO+7YeOxLZh8tStYDWGdmP3L3VfXEUl8c6xoKzN2XAXua2V6E4WAXASea2b7u3uBxBeqe9znFxmvaEs25LgC4+3JgKjDVzFKEZzhdTd7iEoRhh+MKXUwhlUpRWtpxz73dirUM6VvaoXVK2xvab0vOe+yVTVZby1fRv4z9R2iOTldTUlKi/z4TRO2ZLGrPZGluezb3/6OFPjD0MsL8kZ8TliK+j7AC26WEyfztKt7wPk1YQKA+ud9rDjAsPqMma0fC5PYNwBLCam0AmFkfIHd55DVA7hUfnlO2m5n1dfcqd7/K3fcE3gDylzhOEW7oLwZ2zfkZCawizK0hPxZg9wa+X73MrLeZlbr7S+5+djz/KGCXlpynmYbnfR4C/LclJ2judTGzM8wsfynuDKEHrSSeR6SoUqkUF391FN0a+G3slkpx+YGjleSIiIh0kBb16JjZ3e5+eLzJvMDMfg6cC1yT+5f3DvJj4EUzuxuY5O7VZtaPkGRcCjwXyz1O6CU5Py6cUA6cQkjUIEyA/42Z7QHMIkxoz52J/hZwaFx4YBVhbk+21+XbwIVmdpC7e3xez/bkDIWLvgwMJsy/WZy7w8zuIAzTuinG8sM4dAvC831a4jpgazP7IWH43BhC0je/hedpjvL4/J27CXNzdqH5c5uymntdtgT+YGbHEtq1Fvgs4bk6jxQyPE2kPRy003Zcts/2/P6N5czJ6dmp6F/G5QfqOToiIiIdqaVD1w7K/RAnj09y94vaMKZmiYnFbsD5wHQz25qwKMBM4CfAPbHc6tgbcDVwMiEBuJ2NPU93EobdPQssi+f7HBuHjf2BMPfICfOPTomfIdzkfxb4m5l9EngXuNndH8oL9zjgL/k389EtwOlmthPhGUD3EJ5jMzt+j2/Q/Dk2k4AbCclZj/h6hLu3x8znxwjPsvk14eGiJ7j76y08R3Ovy4WEtvkFYSGKXoTeo6mE3iCRTuNLO/ThhK/swcx3V7NoZZpBW5Wwz9AB6skRERHpYKnmLs8GYGZpdy9paltXY2a9chcrMLO3gYvc/Q/FjMXMhgJzgQp3r2856aLIf7ZQksycOXNuz549h44aNapD6qupqaGyspIRI0ZojHECqD2TRe2ZLGrPZFF7JktL23PWrFmsXbt23pgxY4Y1Vq6lPTr1ZUVdethQXK3tCTPbj9AbdDTwKeCvRYjlPOBwM9sf+AA4m7CyW/7CBiIiIiIi0ohCV11LDHefZmbnEIaMDSD0oExw9+oihHMVsAPhWTQ9CQ8w/d92eg5OuzOz19h0YYd8B+Q8K0dEREREpM1s9okOgLtfA1zTCeJIA8fHn07L3Y9pZrn2WO1NRERERKRJLU10eprZXU1tc/cjWxeWiIiIiIhI4Vqa6EwHBuZte6GebSIiIiIiIkXTokTH3fdrpzhE/n979x4ndVn2cfwzKIdFEARSQYUFVi8xyAIPlUZmplmaUuY58XzMNDXFQ55TUFPzbFqJqCk96aOi5tlQq0ddUrHWSxdYsUxE8ADtwC4wzx/3vTqMs7sz7O7M7o/v+/Xitbu/03395mJhrrkPPxERERGRdtOt3AGIiIiIiIi0NxU6IiIiIiKSOCp0REREREQkcVToiIiIiIhI4qjQERERERGRxFGhIyIiIiIiiaNCR0REREREEkeFjoiIiIiIJI4KHRERERERSRwVOiIiIiIikjgqdEREREREJHFU6IiIiIiISOKo0BERERERkcRRoSMiIiIiIomjQkdERERERBJHhY6IiIiIiCSOCh0REREREUkcFToiIiIiIpI4KnRERERERCRxVOiIiIiIiEjiqNBZy5nZMDNbZmZbtPE6PzKzuvaJSqQwmUyGmXMWcPff5zFzzgIymUy5QxIREZFOYt1yByAdz8wMOBfYBegLLAAeAC5w97eAXm1tw92nAdPaeh0zWwc4yd2vLPD424CJwM7u/nTOvi8Bs4Cp7n5oW2OTzuW+2fM548FZzFm05JNtIwf2ZcqeY5kwZmgZIxMREZHOQD06CWdmXwReBP4FfIFQ6EwAtgaeN7OKMoaXz5eA04s85z3goDzbDwQWtjki6XTumz2ffafOXK3IAZizaAn7Tp3JfbPnlykyERER6SzUo5N81wGPuvsZWdteNrM9gWuAIWZWC4xy99fj8LOLCcXQ1wm9P8e5+2Nm1g24nFBArA/UAqe7+6Nmdigw2d03jtf7lbtf29Sgmf0GqHD3A81sa+BKYBzQCNwFnEYocp4H1jWzZcDuub00zXgE+IGZneDuy2N7KWC/uK9T+4gevJteSa9MY7lD6RIymQynPlDNqmaGqa3KZJg0YxZ7j96MVCpV4uhERESks1Chk2BmtiGwA7BT7j53XwIcZmaVeU49DTgEeBm4Ebga2ArYnzD8bQzwQTzmdjPbNOf8aYQelmtjHOsAewGHmFlv4E+EImt3YBPgfuBn7n6JmR1FLJiKuNU64E1gD+CPcdvXCEXaPCDfPTYrk8lQX19fzClrLJ1O80K3wbwwfzmwvCRtdnXzFizmrcVLWzym9v0lPFHzNjtUDipRVEE6nV7tq3RtymeyKJ/JonwmS7H5LHROrgqdZBsRv3qR5z3o7i8AmNkfgYmxN6c/sAKod/eVwO/MbKq7rwrTgD4xDTjPzEa6+xxCz9Aq4DFCT1HK3S+Nx84zs8uBs4BLir/FT9xBKK6aCp0DgTtjzEVpbGykpqamDaEUqduw0rWVAEvSywo6rvr1WgakyzNysa6uriztSsdQPpNF+UwW5TNZ2jufKnSSrancXafI8+ZlfV8fz+8B3E3oxfm3mT0GzIjbVmWf7O5zzex5QuFxIfB9YLq7rzCzkcCGcWhakxRt7874PXCJmfUH/sun85COLfZC3bt3p6qqqo3hFCadTrNd3TsMHjyYnj17lqTNrq6SvtzzXOvHjduyilFl6NGpq6ujsrKSiorONv1NiqV8JovymSzKZ7IUm8/a2loaG1sf8q9CJ9lq49fPA/8u4rxV+Ta6+2Lgy2b2VWBPQhFzvJl9Lc/htwOnmtlFwN7AD+P2NPAPdx9TRDytcveFZvZ0bOcd4BV3fzenp6kgqVSK3r17t2d4LepHA8P69y5pm13Z8AF9OPeRVz6zEEG2qkF92WVU+eboVFRUKJ8Jonwmi/KZLMpnshSaz0L/f9eqawnm7ouAZ4BTc/eZWW8zqybMkSmImfUys97u/hd3PxMYTZivs3WeeFWmdQAAIABJREFUw6cDwwg9Ksvc/a9x+xxghJn1ybruQDPrW2gcLZgG/ADYlzBsTRIolUoxZc+xdGvmH7luqRST9xirhQhERETWcip0ku8kQi/M781sUzPrFpec/hNhWNp7RVzrV4TFBwbFVc3GEf4OfWYtX3f/iPCsnsmEVdWaPEpY8vkKM1vfzDYG/gBMifvTQD8zG7IGS18/QCi8dgLuLfJc6UImjBnK9InjqRq0en1cNagv0yeO13N0REREREPXks7dXzWz7YELCA/P7AO8TZjTMgXYqIjLTQJuIqxw1j1+PSAOG8t3/O3k9K64e6OZ7UVYde1d4GPCqmunxUOeJMwRmkt4EOg9hQbn7svM7GFg/biqnCTYhDFD2Xv0Zjw79z3+83GaIf0q2HH4hurJEREREUCFzlrB3V8nPFMmnzrCYgBNx1bmnPtM1v5lzV3H3W8DbsvZvCHwnLt7zrGvEFZiy3ed9wlLWRfE3Q/N+fmonJ/PL/Ra0vWkUinGjyymVhcREZG1hQod6RBmtgVwEXB0uWMRERERkbWPCh1pd2Z2E2H1syvd/eE2XOcBYNcWDjnK3aet6fVFREREJLlU6Ei7c/djWYPn1+S5zvfaIRwRERERWQtp1TUREREREUkcFToiIiIiIpI4KnRERERERCRxVOiIiIiIiEjiqNAREREREZHEUaEjIiIiIiKJo0JHREREREQSR4WOiIiIiIgkjgodERERERFJHBU6IiIiIiKSOCp0REREREQkcVToiIiIiIhI4qjQERERERGRxFGhIyIiIiIiiaNCR0REREREEkeFjoiIiIiIJI4KHRERERERSRwVOiIiIiIikjgqdEREREREJHFU6IiIiIiISOKo0BERERERkcRRoSMiIiIiIomjQkdERERERBJn3XIHIMUxs1uAnu5+SAdd/3rgOeAeYH9gR3c/vq1tm5kDl7v7re0Q4/nAt939y229lnRdmUyGZ+e+xzsf1zNk/d58bcSGpFKpcoclIiIinUTZCh0zewwYnxVHN6Ah+xB3f6tEsTwD7AisyLP7fHefXIo4CuHuR63JeWZ2KPA7YHme3XPc/fPx+/OAO4AbgReAg9vadjzXioj1GZrPx3rFtGtmA4Dvt0eBJZ3HfbPnc8aDs5izaMkn20YO7MuUPccyYczQMkYmIiIinUXZCh1337Xp+07yCf0V7j6pjO2XwgJ337ilA9z9feDbJYqnJc3mw6zgmglgZ+BIQIVOQtw3ez77Tp3Jqkxmte1zFi1h36kzmT5xvIodERER6bxD18xsGHAt8FVgHeBB4Mfu/nHsnTgHuBS4EOhP6IU4wd1XxPN/DJwADAPmAWe5+/1tiKc3cBuwJzAfOB74E/AtYBXwWM4pPYFD3X1q7FW4Bvgm0Ad4Cjje3f9tZpUxvuOBX8SYnwJuIvR4dSf0rBzt7nPN7Dagl7vvn9MrBiGfb7v78Dbc5xHAJTH+m4GBwLrufmhO24cCpwDXEXLQAzgbqIv3uhFwp7sfF69bB0x295vWNLYWYj4otj0UWAhc5u43mtkPgd8D3cxsGbCVu89t7/bb6iN68G56Jb0yjeUOpdPLZDKc+kD1Z4qcJqsyGSbNmMXeozfTMDYREZG1XKcsdMwsBdwPPE9489qH8Ib1CuDoeNgmwHbA5oRi5ingn8CvzOz7hCFY3wZeAb4HTDezzd19/hqGdSnwhdjeSmAq8fVz95lAr6z4jyW88Z4RN91GGIa1VTz3RsIwsk96tYCdgEpgCaHAWBzvcR3gynjv388OKKdXrC8wizb0XJjZWOAW4IfAQ8AZwFHAA82cUhljHAb8DLiMkLcvAeOAZ8zsVnevXtOYCoh5OHA7sBvwJKEH5zEze97d/2Bmn6fI3sJMJkN9fX3HBJwjnU7zQrfBvDB/OflHFUq2eQsW89bipS0eU/v+Ep6oeZsdKgeVKKpPpdPp1b5K16Z8JovymSzKZ7IUm89MMx945uqUhQ6wDTAa2MHd64H6OLztUTM7Jh7TCzgn7q8xs98DewC/Ao4AfpP1BvteM3sOOACY0kybp5nZyXm2b+Lui4DvANe7+78AzOwKQm/OasxsDHA5sLu7LzKzDQm9QKPc/YN4zCRgvpllDyO73d0/jvv7A4uA5e6eMbPj3H1Vyy8ZNwG1hGKjORvFno1ck9z9amB34FV3/2OM42LCsK/m9AamuPtyM5sBXATc7O5LgT+b2UeEwrDDCh1CD9KgptcWeNLMFhAKrVfX5IKNjY3U1NS0U3gF6DasdG11cUvS+f76flb167UMSC/s4GiaV1dXV7a2pf0pn8mifCaL8pks7Z3PzlrojCT0ZCzKmY+xLtD0Me0H7p79TuYtwqf6TefvmlO4dCP0+DSntTk6gwlvqpu8mHuAma0HTCcM0Xoubh4Rv76ccy8rgc0IQ62a4m9yGaEXZXcz+1O85lPNBWZmhxN6hL7o7i2VuK3N0VntHt19pZnNauH4xbHQBGh6B/rvrP3LyOrpKlK+wjN70YSmGDNmdlwccjcESBGG3fVcw3bp3r07VVVVa3p6UdLpNNvVvcPgwYPp2XONQ15rVNKXe55r/bhxW1Yxqkw9OnV1dVRWVlJRUVHy9qV9KZ/Jonwmi/KZLMXms7a2lsbG1of8d9ZCJw0sdfe++XbGgmGdnM0poOlNfprQS/HLdoypG5D9iubrYbkO+BdhmFuTpj64pp6h1cQ5OpC1wpi7vxSHZO1G6KW6z8xucffT8pw/Crga+F5O4bcmcu8R8t9nS/ta63kqVEGLQ8QCZxKwFzAzFmdvt6XhVCpF796923KJovSjgWH9e5e0za5q+IA+nPvIK6uttparalBfdhlV3jk6FRUVymeCKJ/Jonwmi/KZLIXms9D/4zvrA0PnAH3im30gzEExs4FZx6xvZtkf2Q4jFBlN538h+4JmNjTO/VlT78U2mmybc/2DCXOCDs4ZZlZHePP/haxju5vZkOYaiosXNLj7A+5+NGGO0TF5jqsg9Pb80t2fKfaG8ljtHs1sHWBsO1y3I20HPOvuT8ciZ2NCz44kUCqVYsqeY+nWzD9w3VIpJu8xVgsRiIiISOcsdNz9NeAvhIUFBsU5KzcD07IOWw6cZ2YVZrYVYf7Ng3HfzcB+ZvZdM1vXzL4BvAZs34awngKONbPBZjYY+GnTDjPbnNCbc7C7L8i5l4+Au4EpZrZpLE4uBR5vofD6C3CGmfUys+4x7to8x11NKE4uasN9ZXsK2Ca+bj0JCyp09v7gOmBLM9sgrtR3DWEY4CZxfxoYbGYD4j1JFzdhzFCmTxxP1aDVO3yrBvXV0tIiIiLyic46dA3gQOB6whvZZYQVtQ7N2v8hMJtQAPQnFEE3Abj742Z2GqH42JiwfPNx7v63FtprbjGC5939m4RVxe6J13odOJmwQMGqGOv6wEM583CmxYdsnhhj+Uc8/q/AXnF+Sb5Y9ov3fg5hKNmLwEF5jjs67q/PuU5zD1ttbjECCEsvzzSzc4A7CQ9vvRp4mvYbjtYRbiTMT/oX4e/KcYTFLC42s3eB/yUs2f02YfGIv5QlSmlXE8YMZe/Rm/Hs3Pf4z8dphvSrYMfhG6onR0RERD6RKnR5ts4kPsNlcmsPv+yAdnu6+/L4/XBgLlDl7nNKGUdHyr7H+POfCXNffl7GsEqmurp6bo8ePYaPGTOmJO3V19dTU1PDqFGjNMY4AZTPZFE+k0X5TBblM1mKzefs2bNpaGiYN27cuBEtHdeZe3Q6FTP7ObC/me1C6E06E6gh9PAkQize3ojPIXoI2IXwwNYzyxqYiIiIiEiRVOgU7grCctCvAD0ID+fcp4Dn23QZ7j7PzCYSlre+m7BU9PHu3m7DvczsFSDveL1o1/gAVhERERGRNdYlCx13vw24rcRtpglzYo4uZbul5u53AXd14PW37qhri4iIiIg06ZSrromIiIiIiLSFCh0REREREUkcFToiIiIiIpI4KnRERERERCRxVOiIiIiIiEjiqNAREREREZHEUaEjIiIiIiKJo0JHREREREQSR4WOiIiIiIgkjgodERERERFJHBU6IiIiIiKSOCp0REREREQkcVToiIiIiIhI4qjQERERERGRxFGhIyIiIiIiiaNCR0REREREEkeFjoiIiIiIJI4KHRERERERSRwVOiIiIiIikjgqdEREREREJHFU6IiIiIiISOKo0BERERERkcRRoSMiIiIiIomjQmctZWaPmdlFZWj3HDP7c/z+R2ZWV+oYpGvJZDLMnLOAu/8+j5lzFpDJZModkoiIiHQB65Y7gCSJb9o3AVbm2X2Yu/++pAG1wN13bcv5ZnYXcACwnbu/WES7FwMXx++nAdPaEkeMZQDwOnCxu1+Ts+9w4JfAKHd/t61tSWndN3s+Zzw4izmLlnyybeTAvkzZcywTxgwtY2QiIiLS2anQaX8nuvtN5Q6iI5nZBsDewHTgcKDgQqcjuPtiMzsFuN7MpjcVNLEAmgKcriKn67lv9nz2nTqTVTk9OHMWLWHfqTOZPnG8ih0RERFplgqdEjOzQcA9wFcBB84CHgKGA18Dbsk6PAX0AHZy9z+b2TDg2njuOsCDwI/d/WMz2wmYAZwDXAjsBiwCbgC2ATLA08BR7r7IzJ4B/ubuk8zMgWFZ7XYHZrr7N5q5jYOBWcA1wENmdoq7p+P9VQLzgF2By4AtgFeAA929zszOB77t7l82s0OBye6+cWvntfa6uvsdZjYRuBI4MG6+hNDTc2tr55fTR/Tg3fRKemUayx1Kp5HJZDj1gerPFDlNVmUyTJoxi71Hb0YqlSpxdCIiItIVqNApvd8QipdNgEHAJ8PZcodymdlkQsHyNzNLAfcDzwNDgT7x3CuAo+Mp3YHNgY2AZcCj8fhvA32BqYRC6KfZAbm7ZbW5CaHAaKlX6oi4/y/AYuAHwB05x5wEfDfG8TRwOnB8C9ds63kAxwKzzWxnYCkwERjr7kVN6shkMtTX1xdzyhpLp9O80G0wL8xfDiwvSZtdwbwFi3lr8dIWj6l9fwlP1LzNDpWDShRV69Lp9GpfpWtTPpNF+UwW5TNZis1nofN1Vei0v2vN7OqcbUvdfZCZdSMUHfu5+2JgsZndDNycexEz2w04DtjG3Zeb2bbAaGAHd68H6mPvyKNmdkw8rQdwQ1bvSn8g7e4rgA/MbG93X9Vc4Ga2DnAX8Ed3v6eZY7YBRgHT3T1jZtMIw9dyC50b3f2deM6jwLbNtdtO5+Huc8zsYuB64L/A5e5eU+j5TRobG6mpKfq0NddtWOvHrGWWpJcVdFz167UMSC/s4GiKV1dXV+4QpB0pn8mifCaL8pks7Z1PFTrtr6U5OgMIxUhd1rbPzG8xs42B24Hj3f3NuHkkYbjaIjPLPnxdQs9Qk7eyvr8AuMPMDiH07tyVr70s5wEbEHpVmnMk8FAs1CD0QP3czEa4+9ys4+ZlfV8PVLRwzWxrel6Ty4GDgH7AL4o8F4Du3btTVVW1JqcWLZ1Os13dOwwePJiePXuWpM2uoJK+3PNc68eN27KKUZ2sR6euro7KykoqKor9qyudjfKZLMpnsiifyVJsPmtra2lsbH3Ivwqd0mpazjs7M6v1sMRenzuAGe5+Z9auNKFnqG++C2cVPyuavnH3h8xsM8JQsO8BM83sZ+5+XZ7zdwZOJqyilvfjdDPrTVhprZeZZY8rSgGHAT9v7r6KsKbnAeDujWb2ItDL3ddoLFgqlaJ3795tCaMo/WhgWP/eJW2zsxs+oA/nPvLKaqut5aoa1JddRnXOOToVFRXKZ4Ion8mifCaL8pksheaz0P/79Ryd0lpEWHo6e6xS7tCss4DBwIk52+cAfcxseNMGM+trZgOba8zMBrr7Une/x90PIsxhOSbPcZ8jFFcnuvvrLcT/Q0IhNQb4Ytafc4CJsUgTabNUKsWUPcfSrZl/yLqlUkzeY2ynLHJERESkc1CPTgm5+0ozmwmcYmbPExYNOLJpv5ntCPwM+Gqch5N97mtm9hfgV/HZMCsIK6r1B76T25aZVQBvmtlPgLsJCxWMA2pzjksRhsk95u5TW7mFI4E73f2NnGvcSOjN2ZWwyplIm00YM5TpE8czacYsat//tGenalBfJu+h5+iIiIhIy1TotL98ixEA3OXuhxNWLPsD8C5hieZLCKuprYr7+gDVOfNwLo4P2jyQMNG+jrAq2ZPAofmCcPe0me1DWJXtZsJ8l2eBH+ccOpSwQEKDme2fc41eTd9bCGhHPtvT1PQcm/sJixKcni8ekTUxYcxQ9h69Gc/OfY//fJxmSL8Kdhy+oXpyREREpFWpQpdnk/ZjZj3cvSF+/w3gCaCiaVuSxZXidnP3r5Q7lnyqq6vn9ujRY/iYMWNK0l59fT01NTWMGjVKY4wTQPlMFuUzWZTPZFE+k6XYfM6ePZuGhoZ548aNG9HScerRKTEz+w1QaWY/IDzE81TgibWhyIlGEJ69IyIiIiLSYVTolN7phIdtziUMV3uOsEhA4pnZ48CXCA/yLOa8a4GjWjikaWifiIiIiAigQqfk3H0RYfWytY67f2sNzzuRPHODRERERESao+WARUREREQkcVToiIiIiIhI4qjQERERERGRxFGhIyIiIiIiiaNCR0REREREEkeFjoiIiIiIJI4KHRERERERSRwVOiIiIiIikjgqdEREREREJHFU6IiIiIiISOKo0BERERERkcRRoSMiIiIiIomjQkdERERERBJHhY6IiIiIiCSOCh0REREREUkcFToiIiIiIpI4KnRERERERCRxVOiIiIiIiEjiqNAREREREZHEUaEjIiIiIiKJo0JHREREREQSR4WOiIiIiIgkjgodERERERFJHBU6HcTM6szs2Gb2PWNmk0sdU6mY2U5mljGzXu10vcfM7KL2uJaIiIiIrB3WLXcAnZ2Z7Qo8Ctzg7ieUof3bgF7uvn/Wth2AR4DD3P2PHdDm+sCFwF7AxkADMBM4y91nt3d7rXH3XYs53syqgLuBTd19446JStpTJpPh2bnv8c7H9QxZvzdfG7EhqVSq3GGJiIhIF6ZCp3VHEt40H2Bmp7r7snIGY2ZjgAeBkzqiyInuBHoBuwBzgYHABcBTZjbC3Zd0ULttZmY7A9OAvwKbljkcKcB9s+dzxoOzmLPo079WIwf2ZcqeY5kwZmgZIxMREZGuTIVOC8xsIPA9YAwwDpgA/D5rf2/gauAHwCrgj8BP3L0h5zo7AU8DFbmFkpmlCIXUAOA77t7YQjzDCb1LF7n773KucSlwELAB8AZwsrvPjPufAR4DRhF6aZYAZ7j7Hc009S3gEHefE39+38x+CvyN+HfGzAYA1wDfBPoATwHHu/u/88S9DfAksI+7P25mWwNXEl7TRuAu4DR3bzSzQ4HT4n0eC2we9//N3Sc199pkGUgo0LYHdizgeCmj+2bPZ9+pM1mVyay2fc6iJew7dSbTJ45XsSMiIiJrRIVOyw4BXnb3N83sTuAIsgod4BLA4p9uhDfn5wLnFNHGucBWwA6tFDkbEYqVW9z9qpzdPwImAtsC/wHOBv7HzAa7+8p4zAnA4fHP2cD1ZnZPM206cKKZVTcVO7F4m5Z1zG3Aihj7SuBG4HfAasPMzGwI8L/AT2OR0xv4E6FI2h3YBLgf+Bnh9QQYAqSB/rH4ae5l+Wzg7n+I7W5f8Ell9hE9eDe9kl6ZZtOfSJlMhlMfqP5MkdNkVSbDpBmz2Hv0ZhrGJiIiIkVTodOyIwhv4CG8yT/XzCrdvS72okwkzJN5HyD2RvQr9OJmtg9wNPBld/+4hUP7EYqDvsCUPPvvBO5394/ide8mDDUbCsyLx/zF3R+N+6cD5xEKirfyXO8QQi9KrZm9AfwZmAE85O4rzWxDYE9glLt/EK85CZhvZtlzYnoRipzb3P23cdt3gZS7Xxp/nmdmlwNn8Wmh0w+4rKXCryNlMhnq6+tL0lY6neaFboN5Yf5yYHlJ2uws5i1YzFuLl7Z4TO37S3ii5m12qBxUoqjaJp1Or/ZVujblM1mUz2RRPpOl2HxmmvmQNJcKnWaY2ZeBLYB7ANx9rpn9FTiMUCQMBPoDdU3nuPsrRTTxReBEwlybt1s5djfgImAP4DfAATn71wOuNrPdCUPXmvTM+n5e1vdN7+Ir8jUW7+PzZjaOMDRtJ+B/gFfM7BvAiHjoyzm9LSuBzbJ+/i1hMYNzs7aNBDY0s+whfClWf5f/QSuFX4dqbGykpqamdA12G1a6tjqRJenCprtVv17LgPTCDo6mfdXV1ZU7BGlHymeyKJ/JonwmS3vnU4VO844kvD51WW/mewCbmtkFhDk5sOZLdH+NsKjA2XEIWUsT/O919/PM7LdAtZmdmdUjAnA98IV4zVpCIVKbc41VFMndq4Fq4DILL0I1obfn+XjIJu6+KPe8OCcJQiG1LmHY3LVxWxr4h7uPaaHpFcXG2p66d+9OVVVVSdpKp9NsV/cOgwcPpmfPnq2fkCCV9OWe51o/btyWVYzqQj06dXV1VFZWUlGR93ME6UKUz2RRPpNF+UyWYvNZW1tLY2PrA39U6ORhZn2A/QiT4Z/K2rUe8ALwzTjf5ENCr8+seN5YYKsWJvlnuwGYBDxHWNDgiBaOXQHg7m+Z2QHAQ2Y2291nxP3bAbe6+5tZcawRMxsNHEWYU/NJceTubmbzCK9BHaFw+gJhkQXMrDvwOXd/J+ty+xB6g6ab2aPu/gYwBxhhZn3cfWk8dyDQ0FlWc0ulUvTu3btk7fWjgWH9e5e0zc5g+IA+nPvIK6uttparalBfdhnV9eboVFRUrHX5TDLlM1mUz2RRPpOl0HwW+r5ADwzNbz9gGWFuSW3Wn1eAB/i0KPkd8DMzGxLfrF8HfL7ANlbGhQImEpau3qOQk9z9ccJQsDvNbMu4uQ7Y1sx6xCF3TUPbNikwlmwLCKu33WxmQ80sZWbrm9lPCCugPRLnAt0NTDGzTc2sgrDq2+Nx7lL2PT4Uj73dzNYhLNiwELgiXndj4A/kn3skCZZKpZiy51i6NfOPVbdUisl7jO1yRY6IiIh0Dip08jsCuDN3mejot8DecXnlScBLhPkvc4FXCYsAFCz2cpwJ3GJmBY3PcffJwOPAA2bWP8axFfAB8AvC3J/7gPuL7d1x94WEIXB9Cc+iWQHMJ8wP+pa7vxYPPZEwPO4fwDux/b3cPd/ssJ8S5uqcGRcY2Iuw1PW7wMvAm4QlpdvMzB6L839uATYys2Xxz/j2uL60rwljhjJ94niqBvVdbXvVoL5aWlpERETaJFXoqgXSPDO7ivBm/5fZw72SwMxeIjwf54Vyx1IK1dXVc3v06DF8zJiWphC1n/r6empqahg1atRa3fWeyWR4du57/OfjNEP6VbDj8A27ZE+O8pksymeyKJ/JonwmS7H5nD17Ng0NDfPGjRs3oqXjNEenfVwX/zhhaFsixKFmJwAPmtmQrGfyiLSrVCrF+JEblTsMERERSRAVOm0U5+a8Rhh+9fcyh9PeDiMslHBvZyhyzOwBch5ImuMod5/Wwn4RERERWUuo0GmjuLxyItc1dPdbgVvLHUcTd/9euWMQERERka5BixGIiIiIiEjiqNAREREREZHEUaEjIiIiIiKJo0JHREREREQSR4WOiIiIiIgkjgodERERERFJHBU6IiIiIiKSOKlMJlPuGEQ6jerq6jTQq0ePHiVpL5PJ0NjYSPfu3UmlUiVpUzqO8pksymeyKJ/JonwmS7H5bGhoAFg2bty4Fp9lqQeGiqxuOUBDQ8N/StloY2NjKZuTDqZ8JovymSzKZ7Ion8lSRD4HE9+ztUQ9OiIiIiIikjiaoyMiIiIiIomjQkdERERERBJHhY6IiIiIiCSOCh0REREREUkcFToiIiIiIpI4KnRERERERCRxVOiIiIiIiEjiqNAREREREZHEUaEjIiIiIiKJs265AxBZG5nZMOAG4MvAUuBu4Ex3X1XWwKRZZrYbcDvwtLvvn7NvP+BsYDjwBiGXj8V93YCLgAOADYD/A45397klDF9yxN/Bq4HxwArgEeBkd//QzL4I/Ar4IvAecJO7/zLr3GbzLeVhZlsDVwLbAMuAZ4CT3P1dM9sZmAxsCbwNXOLud2ad+xPgBGAw8Go8r7q0dyD5mNlVhN/LVPxZueyCzCwDNACZrM23uPuJHZ1T9eiIlMe9wL+BEcAuwATg5LJGJM0ys9OBa4A38+z7IjAVmAR8jvBm6z4z2zQecgJwIPBdYGi8xn1mlipB6NK8B4EPgWHAOODzwBVmVgHMAJ4ChgD7AWea2fehoHxLiZlZT+AxQnGzITAa2Ai40cwGAw8AN8V9JwG3mNk28dw9gQuAQ+I5DwIzzGy9Et+G5Ii/a4dk/axcdm3m7r2y/pxYipyq0BEpsfgLvDVwhrt/5O5vEt4sHV3eyKQFy4DtgNo8+44EHnb3h919WfwkajZwcNx/DHCVu9e4+xLgLGArYPsSxC15mFl/4CVgkrsvdfd/EYqX8YSCtAdwsbv/191nAbfy6e9na/mW0utN6GG71N2Xu/tCwodJo4GDgDfc/bcxX08Q3lgdGc89Bvidu/+fu6eBywmfOu9Z8ruQT8Se8JsI/zc2US6Tp8NzqkJHpPTGAXXu/kHWtlmAmVnfMsUkLXD3a9z9o2Z2jyPkL9ssYNvYO7BV9v5Y7LwJbNsRsUrr3P1Ddz/c3Rdkbd6M0Ms6DnjV3Vdm7ZvFp/lqNt8dFa+0zN0/cPdb3X0FhH9IgUOBe2g9X6vtj8OHX0b5LLdjCB8w3Zm1Tbns2iab2Xwz+9DMfm1mfShBTlXoiJTeQOCDnG2L49dBJY5F2q65fA4izMlJtbBfOoHYy3oi8Auaz+eA+ClzS/mWMjKzYWbWANQALwDn0Xq+lM9Oxsw2IgxXOj5nl3LZdf0NeALYHPgKYX7yDZQgpyp0RMpD8zOSpbV8Kt+dlJntQJjfMSnpEN7PAAAJZ0lEQVQOm4D8+cqeRKt8dkLu/hbQEzBgC2Ba3KXfz67lSsJwpX/m2adcdkHu/pXY67rc3WuAMwhzV7vTwTlVoSNSegsJn1JkG0h4I7Ww9OFIGzWXz/cInzytamG/lFGc6PowYVWna+Lm5vK5KA6baCnfUmbunonzHs8mrHTYSMv5Uj47ETP7JvBV4MI8u1vLlXLZddQB69D6/49tzqkKHZHSewkYambZXa/bAv9096VliknW3EuEccTZtgX+z92XAa9l748T4asIy0xLmZjZVwnLhf/Q3W/P2vUSsLWZZT9+YVs+zVez+e6oWKVlZrazmXkcWtikaan+F2g5X6vl08zWAcaifJbLwYTVtd4ys/eJ8zPi96v9Wxopl52cmX3JzH6Zs3kUsJzwQVOH5lTP0REpMXf/u5m9SJiYdwphCdtTgNx/CKRruAV40cy+CzxJ6I7fArgj7r+RsDzxw4TJ7lOAv7v7S+UIViAWMbcSVj7Mff7Nw8DHwDlmdhkwBjiCT1dVay3fUnrVQD9gipmdB6wHnA88S/j9O9XMjiTkaGfgO4Q5AsT9d5vZXYRndJxGeAP2UClvQD5xCvDzrJ83Bf5KeKZVN8K/pcpl1/IecLSZLQSuIizpfxHwa8Lw0vM6MqepTCbT+lEi0q7iMzd+DexEeFN1E3CBu+sXshMys2Xx2+7xayOAu/eK+79PeODZMOCfhAeazYz7UoQ3XccCfYGngWPiksZSBmb2NWAm4T/Mz+wm5OkmwsMnFwCT3f3GrPObzbeUh5mNAa4lLAO/lPAcpFPd/d9mNp7wHKxRhCEzZ7r7vVnnHgecSXiOx4vAce7+WmnvQPIxs0pgXtYDQ5XLLijmbTLhg6PlhOX8z3b3ZR2dUxU6IiIiIiKSOJqjIyIiIiIiiaNCR0REREREEkeFjoiIiIiIJI4KHRERERERSRwVOiIiIiIikjgqdEREREREJHFU6IiIiIiISOKo0BERESmCmf3IzJaZWc8Cjz/fzN5t5ZiMmR3bPhGKiAjAuuUOQEREpL2Z2aPAeu6+YzP7bwa+DYxw95XFXNvdpwHT2h5l+zGz84Fj3X3jcseSy8x2BHq5+xPljkVE1i7q0RERkSS6FtjBzL6Qu8PM1gcOAm4otsiRNfJTYJdyByEiax/16IiISBI9DMwBjgdyh4T9iPBB3y1mtjnwS+DrcZsDZ7n7Y/BJT8newP8CpwCHA32A3wEV7r6stWs0MbMfApcAg4FXgWPcfXa+4M3saOAEYCSwFPgf4HR3ry/k5s3sNmADYCbwM2A94LfA5TH2rwD/Ao5295nxnAxwMvANQmHSCNwEnO3uq+IxE4CzgS2ABuBPwE/dfaGZVQLzgKPjMS/He90OWGlmJwP9CO89Lgf2AfoC7wDXuftVsY2dgKeB7ePr+iVgIXBu7E3DzNYFzgUOjff5GnCmuz8T928GXAnsAPSP+89Sr5LI2kU9OiIikjjxjfn1wEGxByfbscBd7r4YuJfwhn4TYCDwGHCvmQ3MOn5TwpvpjYA/5mmukGv0B35AKDA2ARYAj8Q37Ksxs8OAywiF1fqEAmo8cHOh9x/tQPh/fiih4PsJMJ1QzAwE5gJX5ZxzBuF16w/sT+iNOTzG9XXC/f8KGARsA4wC7sm5xuHATsAEd98eeAu4wt17uftyYDKwGzAW6B3jutLMdsu5zsXxWv2B+wiF6YC473zgYMLwww1iXA+Z2TAz6wE8CSwDxgADgN8DD5vZqIJeORFJBBU6IiKSVL+NXw9p2mBm44HRwDVx01eAQ9x9qbs3AFMJvR9jsq4zALjQ3dPunsnTTiHX6EnokXnf3T8CLiIUPNvnud5PgN+4+5PuvsrdHbgQ2L/QBRCiFYQCo4FPC7TH3f0fseCYAWyVc84Md3/c3Ve4+6PA44QCDeBE4El3n+buDe5eF+P6hpkNzbrGdHeva+a1AjgVGOfu/3L3jLs/BLxLeB2zXefub7r7CuAuwmu4uZmlgOPi/n/G/VcBRwErgd0JPWE/dvdF7r4s9ha9ARxQ2EsnIkmgoWsiIpJI7v6Rmd1O6MG5Lm4+Dpjp7q/Gn7cHzo1zeXpnnd4r6/sP3X1RC00Veo35WT+/Gb8OBZ7Pud6WwGgzOyFnewrYDKhtIZZs85uKDXevNzMIvStN6nNiBPhHzs9zgW/G76uAp3L2/zN+HUkYtgZhyGBLNgEui0Vnv7itZ55Ysu9zafxaQeiNGhBjAyDOtboLwMwOInyQuyDec5NuQGUrsYlIgqjQERGRJLsOOD4Ou6oBvg8cCGBmVcBDwK+BfeI8k5F8tpBoaO7iRVxjVc7Pqfh1WZ7LpoFL3f3y1m6uFbltNrctW+77glTWObmFCHw6MiS796al16sb8CihB2cHYI67Z8zs7SJibVpAorlRKWngv+7ep7k4RGTtoKFrIiKSWO5eQxh+dRhhTse7hIUFIMwx6Qlc7O4L47YvF9lEodcYYGbZSz9vGb/Oz3OsA+OyN5jZBma2QZGxrYktcn4eyacxvgHkrmI3OmtfITYENicMO6uNRc5mhF6egrj7B8D7hPlBnzCzk8xsNOH1W8/MtszZPyIOexORtYR6dEREJOmuBe4gTH6/MWtJ6aZel6+b2f3AzsAP47ahFKbQaywDpsSVxzKEFcPeAGblueaVwF1mdjDwB+BzwG2EnozcCfvtbU8zuwd4ljBk7ZuEVdQAbiRM+P8RcDcwjHAfD7r7O3HVtXz+C4w0s37AB8BHwI5mdi+hWLmEMAyt0Ncc4AbgBDP7E/AKcCRwKfB5QmE7G7jJzA4hrOq2D2Hu1M58dqigiCSUenRERCTpHiIsT7w5cEvTRnd/CbiA8KZ5IWEy+5GEuR7XxCWeW1TENf5DWIq5mrCsc39g73wT9t39D8BJwM+Bjwlv5OsozUT66wmLDiwm3MNlxIejuvsjhJ6xU+P+xwnLQB9YwDV3J8wPGgJMBL5LKHhuIaygdhWwl5kV+iDWCwjDBWcAH8a4vuvu8+KKe9+LMb5KmN9zBrC/u6vIEVmLpDKZ5hZFERERkbVFfI7Oce5+U7ljERFpD+rRERERERGRxFGhIyIiIiIiiaOhayIiIiIikjjq0RERERERkcRRoSMiIiIiIomjQkdERERERBJHhY6IiIiIiCSOCh0REREREUkcFToiIiIiIpI4KnRERERERCRxVOiIiIiIiEjiqNAREREREZHE+X8iCdqxJ3eO0gAAAABJRU5ErkJggg==\n",
         "text/plain": "<Figure size 800x500 with 1 Axes>"
        },
        "metadata": {
         "needs_background": "light"
        },
        "output_type": "display_data"
       }
      ]
     }
    },
    "438eef78f3ea43a2a25af4b4a6bf793c": {
     "model_module": "@jupyter-widgets/controls",
     "model_module_version": "1.5.0",
     "model_name": "VBoxModel",
     "state": {
      "_dom_classes": [
       "widget-interact"
      ],
      "_model_module": "@jupyter-widgets/controls",
      "_model_module_version": "1.5.0",
      "_model_name": "VBoxModel",
      "_view_count": null,
      "_view_module": "@jupyter-widgets/controls",
      "_view_module_version": "1.5.0",
      "_view_name": "VBoxView",
      "box_style": "",
      "children": [
       "IPY_MODEL_b2f31f2006484a7ba1ca208f8c8141d4",
       "IPY_MODEL_795b3b0e72d349bca4a6b704e93d60a4"
      ],
      "layout": "IPY_MODEL_f7f3999f9104455b9a7b2caa3ae4be27"
     }
    },
    "4748fe383cd4472a965944023fab7a02": {
     "model_module": "@jupyter-widgets/controls",
     "model_module_version": "1.5.0",
     "model_name": "ProgressStyleModel",
     "state": {
      "_model_module": "@jupyter-widgets/controls",
      "_model_module_version": "1.5.0",
      "_model_name": "ProgressStyleModel",
      "_view_count": null,
      "_view_module": "@jupyter-widgets/base",
      "_view_module_version": "1.2.0",
      "_view_name": "StyleView",
      "bar_color": null,
      "description_width": ""
     }
    },
    "48b23357166f43b7a9b59ba12b5e6e27": {
     "model_module": "@jupyter-widgets/controls",
     "model_module_version": "1.5.0",
     "model_name": "VBoxModel",
     "state": {
      "_dom_classes": [
       "widget-interact"
      ],
      "_model_module": "@jupyter-widgets/controls",
      "_model_module_version": "1.5.0",
      "_model_name": "VBoxModel",
      "_view_count": null,
      "_view_module": "@jupyter-widgets/controls",
      "_view_module_version": "1.5.0",
      "_view_name": "VBoxView",
      "box_style": "",
      "children": [
       "IPY_MODEL_d3ac7fb4d97e4737b869d1d27b287190",
       "IPY_MODEL_39d67c6ab9b444548e799c34fade4c96"
      ],
      "layout": "IPY_MODEL_c271b95622b34c95b982f55649287c10"
     }
    },
    "4c53784a4490417f89eed4ed68252dcc": {
     "model_module": "@jupyter-widgets/controls",
     "model_module_version": "1.5.0",
     "model_name": "IntProgressModel",
     "state": {
      "_dom_classes": [],
      "_model_module": "@jupyter-widgets/controls",
      "_model_module_version": "1.5.0",
      "_model_name": "IntProgressModel",
      "_view_count": null,
      "_view_module": "@jupyter-widgets/controls",
      "_view_module_version": "1.5.0",
      "_view_name": "ProgressView",
      "bar_style": "",
      "description": "Processing: ",
      "description_tooltip": null,
      "layout": "IPY_MODEL_0852820aead44e85b0717c2ec03ac60f",
      "max": 4,
      "min": 0,
      "orientation": "horizontal",
      "style": "IPY_MODEL_fb1030123bee4dd2a6b1e8c553ae0a31",
      "value": 4
     }
    },
    "58632bc53bc6410eacf8261cfd5cd502": {
     "model_module": "@jupyter-widgets/controls",
     "model_module_version": "1.5.0",
     "model_name": "ProgressStyleModel",
     "state": {
      "_model_module": "@jupyter-widgets/controls",
      "_model_module_version": "1.5.0",
      "_model_name": "ProgressStyleModel",
      "_view_count": null,
      "_view_module": "@jupyter-widgets/base",
      "_view_module_version": "1.2.0",
      "_view_name": "StyleView",
      "bar_color": null,
      "description_width": ""
     }
    },
    "6184cf3beac640268c352b513313a0b2": {
     "model_module": "@jupyter-widgets/base",
     "model_module_version": "1.2.0",
     "model_name": "LayoutModel",
     "state": {
      "_model_module": "@jupyter-widgets/base",
      "_model_module_version": "1.2.0",
      "_model_name": "LayoutModel",
      "_view_count": null,
      "_view_module": "@jupyter-widgets/base",
      "_view_module_version": "1.2.0",
      "_view_name": "LayoutView",
      "align_content": null,
      "align_items": null,
      "align_self": null,
      "border": null,
      "bottom": null,
      "display": null,
      "flex": null,
      "flex_flow": null,
      "grid_area": null,
      "grid_auto_columns": null,
      "grid_auto_flow": null,
      "grid_auto_rows": null,
      "grid_column": null,
      "grid_gap": null,
      "grid_row": null,
      "grid_template_areas": null,
      "grid_template_columns": null,
      "grid_template_rows": null,
      "height": null,
      "justify_content": null,
      "justify_items": null,
      "left": null,
      "margin": null,
      "max_height": null,
      "max_width": null,
      "min_height": null,
      "min_width": null,
      "object_fit": null,
      "object_position": null,
      "order": null,
      "overflow": null,
      "overflow_x": null,
      "overflow_y": null,
      "padding": null,
      "right": null,
      "top": null,
      "visibility": null,
      "width": null
     }
    },
    "63f34447c18447a2a8a7da7ebce55e5f": {
     "model_module": "@jupyter-widgets/base",
     "model_module_version": "1.2.0",
     "model_name": "LayoutModel",
     "state": {
      "_model_module": "@jupyter-widgets/base",
      "_model_module_version": "1.2.0",
      "_model_name": "LayoutModel",
      "_view_count": null,
      "_view_module": "@jupyter-widgets/base",
      "_view_module_version": "1.2.0",
      "_view_name": "LayoutView",
      "align_content": null,
      "align_items": null,
      "align_self": null,
      "border": null,
      "bottom": null,
      "display": null,
      "flex": null,
      "flex_flow": null,
      "grid_area": null,
      "grid_auto_columns": null,
      "grid_auto_flow": null,
      "grid_auto_rows": null,
      "grid_column": null,
      "grid_gap": null,
      "grid_row": null,
      "grid_template_areas": null,
      "grid_template_columns": null,
      "grid_template_rows": null,
      "height": null,
      "justify_content": null,
      "justify_items": null,
      "left": null,
      "margin": null,
      "max_height": null,
      "max_width": null,
      "min_height": null,
      "min_width": null,
      "object_fit": null,
      "object_position": null,
      "order": null,
      "overflow": null,
      "overflow_x": null,
      "overflow_y": null,
      "padding": null,
      "right": null,
      "top": null,
      "visibility": null,
      "width": null
     }
    },
    "698ad096335c4372a37b545468a74d46": {
     "model_module": "@jupyter-widgets/controls",
     "model_module_version": "1.5.0",
     "model_name": "ProgressStyleModel",
     "state": {
      "_model_module": "@jupyter-widgets/controls",
      "_model_module_version": "1.5.0",
      "_model_name": "ProgressStyleModel",
      "_view_count": null,
      "_view_module": "@jupyter-widgets/base",
      "_view_module_version": "1.2.0",
      "_view_name": "StyleView",
      "bar_color": null,
      "description_width": ""
     }
    },
    "6bed74ff50d746cd90adf3962a6adaee": {
     "model_module": "@jupyter-widgets/base",
     "model_module_version": "1.2.0",
     "model_name": "LayoutModel",
     "state": {
      "_model_module": "@jupyter-widgets/base",
      "_model_module_version": "1.2.0",
      "_model_name": "LayoutModel",
      "_view_count": null,
      "_view_module": "@jupyter-widgets/base",
      "_view_module_version": "1.2.0",
      "_view_name": "LayoutView",
      "align_content": null,
      "align_items": null,
      "align_self": null,
      "border": null,
      "bottom": null,
      "display": null,
      "flex": null,
      "flex_flow": null,
      "grid_area": null,
      "grid_auto_columns": null,
      "grid_auto_flow": null,
      "grid_auto_rows": null,
      "grid_column": null,
      "grid_gap": null,
      "grid_row": null,
      "grid_template_areas": null,
      "grid_template_columns": null,
      "grid_template_rows": null,
      "height": null,
      "justify_content": null,
      "justify_items": null,
      "left": null,
      "margin": null,
      "max_height": null,
      "max_width": null,
      "min_height": null,
      "min_width": null,
      "object_fit": null,
      "object_position": null,
      "order": null,
      "overflow": null,
      "overflow_x": null,
      "overflow_y": null,
      "padding": null,
      "right": null,
      "top": null,
      "visibility": null,
      "width": null
     }
    },
    "6c893a035a964860a206b659be600db2": {
     "model_module": "@jupyter-widgets/controls",
     "model_module_version": "1.5.0",
     "model_name": "IntProgressModel",
     "state": {
      "_dom_classes": [],
      "_model_module": "@jupyter-widgets/controls",
      "_model_module_version": "1.5.0",
      "_model_name": "IntProgressModel",
      "_view_count": null,
      "_view_module": "@jupyter-widgets/controls",
      "_view_module_version": "1.5.0",
      "_view_name": "ProgressView",
      "bar_style": "",
      "description": "Processing: ",
      "description_tooltip": null,
      "layout": "IPY_MODEL_1dd1f85817344958aae9b70877bd3455",
      "max": 4,
      "min": 0,
      "orientation": "horizontal",
      "style": "IPY_MODEL_1ca574e0fc0b469fbe0dfecca06d8d34",
      "value": 4
     }
    },
    "6ccad9faa7294e7bbbf9b697babb50e0": {
     "model_module": "@jupyter-widgets/controls",
     "model_module_version": "1.5.0",
     "model_name": "IntProgressModel",
     "state": {
      "_dom_classes": [],
      "_model_module": "@jupyter-widgets/controls",
      "_model_module_version": "1.5.0",
      "_model_name": "IntProgressModel",
      "_view_count": null,
      "_view_module": "@jupyter-widgets/controls",
      "_view_module_version": "1.5.0",
      "_view_name": "ProgressView",
      "bar_style": "",
      "description": "Processing: ",
      "description_tooltip": null,
      "layout": "IPY_MODEL_0152a7554c194962bf8b76042f7c8e0d",
      "max": 5,
      "min": 0,
      "orientation": "horizontal",
      "style": "IPY_MODEL_bfa0fe2cc7ad46c8b580970b1966b36e",
      "value": 5
     }
    },
    "74ae161cc3b4413db7a8597b3dc1c682": {
     "model_module": "@jupyter-widgets/base",
     "model_module_version": "1.2.0",
     "model_name": "LayoutModel",
     "state": {
      "_model_module": "@jupyter-widgets/base",
      "_model_module_version": "1.2.0",
      "_model_name": "LayoutModel",
      "_view_count": null,
      "_view_module": "@jupyter-widgets/base",
      "_view_module_version": "1.2.0",
      "_view_name": "LayoutView",
      "align_content": null,
      "align_items": null,
      "align_self": null,
      "border": null,
      "bottom": null,
      "display": null,
      "flex": null,
      "flex_flow": null,
      "grid_area": null,
      "grid_auto_columns": null,
      "grid_auto_flow": null,
      "grid_auto_rows": null,
      "grid_column": null,
      "grid_gap": null,
      "grid_row": null,
      "grid_template_areas": null,
      "grid_template_columns": null,
      "grid_template_rows": null,
      "height": null,
      "justify_content": null,
      "justify_items": null,
      "left": null,
      "margin": null,
      "max_height": null,
      "max_width": null,
      "min_height": null,
      "min_width": null,
      "object_fit": null,
      "object_position": null,
      "order": null,
      "overflow": null,
      "overflow_x": null,
      "overflow_y": null,
      "padding": null,
      "right": null,
      "top": null,
      "visibility": null,
      "width": null
     }
    },
    "764efc5c8c1d4c6782ce89c3126d4de0": {
     "model_module": "@jupyter-widgets/controls",
     "model_module_version": "1.5.0",
     "model_name": "IntProgressModel",
     "state": {
      "_dom_classes": [],
      "_model_module": "@jupyter-widgets/controls",
      "_model_module_version": "1.5.0",
      "_model_name": "IntProgressModel",
      "_view_count": null,
      "_view_module": "@jupyter-widgets/controls",
      "_view_module_version": "1.5.0",
      "_view_name": "ProgressView",
      "bar_style": "",
      "description": "Processing: ",
      "description_tooltip": null,
      "layout": "IPY_MODEL_6184cf3beac640268c352b513313a0b2",
      "max": 4,
      "min": 0,
      "orientation": "horizontal",
      "style": "IPY_MODEL_698ad096335c4372a37b545468a74d46",
      "value": 4
     }
    },
    "795b3b0e72d349bca4a6b704e93d60a4": {
     "model_module": "@jupyter-widgets/output",
     "model_module_version": "1.0.0",
     "model_name": "OutputModel",
     "state": {
      "_dom_classes": [],
      "_model_module": "@jupyter-widgets/output",
      "_model_module_version": "1.0.0",
      "_model_name": "OutputModel",
      "_view_count": null,
      "_view_module": "@jupyter-widgets/output",
      "_view_module_version": "1.0.0",
      "_view_name": "OutputView",
      "layout": "IPY_MODEL_9974fb7aee374fae841036d08ce6407c",
      "msg_id": "",
      "outputs": [
       {
        "data": {
         "image/png": "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\n",
         "text/plain": "<Figure size 800x500 with 1 Axes>"
        },
        "metadata": {
         "needs_background": "light"
        },
        "output_type": "display_data"
       }
      ]
     }
    },
    "84cc7d5466374f80b5ab6e427da3c59c": {
     "model_module": "@jupyter-widgets/base",
     "model_module_version": "1.2.0",
     "model_name": "LayoutModel",
     "state": {
      "_model_module": "@jupyter-widgets/base",
      "_model_module_version": "1.2.0",
      "_model_name": "LayoutModel",
      "_view_count": null,
      "_view_module": "@jupyter-widgets/base",
      "_view_module_version": "1.2.0",
      "_view_name": "LayoutView",
      "align_content": null,
      "align_items": null,
      "align_self": null,
      "border": null,
      "bottom": null,
      "display": null,
      "flex": null,
      "flex_flow": null,
      "grid_area": null,
      "grid_auto_columns": null,
      "grid_auto_flow": null,
      "grid_auto_rows": null,
      "grid_column": null,
      "grid_gap": null,
      "grid_row": null,
      "grid_template_areas": null,
      "grid_template_columns": null,
      "grid_template_rows": null,
      "height": null,
      "justify_content": null,
      "justify_items": null,
      "left": null,
      "margin": null,
      "max_height": null,
      "max_width": null,
      "min_height": null,
      "min_width": null,
      "object_fit": null,
      "object_position": null,
      "order": null,
      "overflow": null,
      "overflow_x": null,
      "overflow_y": null,
      "padding": null,
      "right": null,
      "top": null,
      "visibility": null,
      "width": null
     }
    },
    "8bc2a2b6744d46f38200b6d9b0deb7ad": {
     "model_module": "@jupyter-widgets/base",
     "model_module_version": "1.2.0",
     "model_name": "LayoutModel",
     "state": {
      "_model_module": "@jupyter-widgets/base",
      "_model_module_version": "1.2.0",
      "_model_name": "LayoutModel",
      "_view_count": null,
      "_view_module": "@jupyter-widgets/base",
      "_view_module_version": "1.2.0",
      "_view_name": "LayoutView",
      "align_content": null,
      "align_items": null,
      "align_self": null,
      "border": null,
      "bottom": null,
      "display": null,
      "flex": null,
      "flex_flow": null,
      "grid_area": null,
      "grid_auto_columns": null,
      "grid_auto_flow": null,
      "grid_auto_rows": null,
      "grid_column": null,
      "grid_gap": null,
      "grid_row": null,
      "grid_template_areas": null,
      "grid_template_columns": null,
      "grid_template_rows": null,
      "height": null,
      "justify_content": null,
      "justify_items": null,
      "left": null,
      "margin": null,
      "max_height": null,
      "max_width": null,
      "min_height": null,
      "min_width": null,
      "object_fit": null,
      "object_position": null,
      "order": null,
      "overflow": null,
      "overflow_x": null,
      "overflow_y": null,
      "padding": null,
      "right": null,
      "top": null,
      "visibility": null,
      "width": null
     }
    },
    "8c90d68080914e51b496785e5c52d300": {
     "model_module": "@jupyter-widgets/base",
     "model_module_version": "1.2.0",
     "model_name": "LayoutModel",
     "state": {
      "_model_module": "@jupyter-widgets/base",
      "_model_module_version": "1.2.0",
      "_model_name": "LayoutModel",
      "_view_count": null,
      "_view_module": "@jupyter-widgets/base",
      "_view_module_version": "1.2.0",
      "_view_name": "LayoutView",
      "align_content": null,
      "align_items": null,
      "align_self": null,
      "border": null,
      "bottom": null,
      "display": null,
      "flex": null,
      "flex_flow": null,
      "grid_area": null,
      "grid_auto_columns": null,
      "grid_auto_flow": null,
      "grid_auto_rows": null,
      "grid_column": null,
      "grid_gap": null,
      "grid_row": null,
      "grid_template_areas": null,
      "grid_template_columns": null,
      "grid_template_rows": null,
      "height": null,
      "justify_content": null,
      "justify_items": null,
      "left": null,
      "margin": null,
      "max_height": null,
      "max_width": null,
      "min_height": null,
      "min_width": null,
      "object_fit": null,
      "object_position": null,
      "order": null,
      "overflow": null,
      "overflow_x": null,
      "overflow_y": null,
      "padding": null,
      "right": null,
      "top": null,
      "visibility": null,
      "width": null
     }
    },
    "8c938995bed04be69853ae6f89d9d0e4": {
     "model_module": "@jupyter-widgets/controls",
     "model_module_version": "1.5.0",
     "model_name": "IntProgressModel",
     "state": {
      "_dom_classes": [],
      "_model_module": "@jupyter-widgets/controls",
      "_model_module_version": "1.5.0",
      "_model_name": "IntProgressModel",
      "_view_count": null,
      "_view_module": "@jupyter-widgets/controls",
      "_view_module_version": "1.5.0",
      "_view_name": "ProgressView",
      "bar_style": "",
      "description": "Processing: ",
      "description_tooltip": null,
      "layout": "IPY_MODEL_63f34447c18447a2a8a7da7ebce55e5f",
      "max": 3,
      "min": 0,
      "orientation": "horizontal",
      "style": "IPY_MODEL_269af99b80ff44e5a938b5630d92f2a2",
      "value": 3
     }
    },
    "94dc64210245493c988845213b020beb": {
     "model_module": "@jupyter-widgets/controls",
     "model_module_version": "1.5.0",
     "model_name": "IntProgressModel",
     "state": {
      "_dom_classes": [],
      "_model_module": "@jupyter-widgets/controls",
      "_model_module_version": "1.5.0",
      "_model_name": "IntProgressModel",
      "_view_count": null,
      "_view_module": "@jupyter-widgets/controls",
      "_view_module_version": "1.5.0",
      "_view_name": "ProgressView",
      "bar_style": "",
      "description": "Processing: ",
      "description_tooltip": null,
      "layout": "IPY_MODEL_74ae161cc3b4413db7a8597b3dc1c682",
      "max": 5,
      "min": 0,
      "orientation": "horizontal",
      "style": "IPY_MODEL_58632bc53bc6410eacf8261cfd5cd502",
      "value": 5
     }
    },
    "972a6eea74a748e99ed24e508265e9ac": {
     "model_module": "@jupyter-widgets/controls",
     "model_module_version": "1.5.0",
     "model_name": "ProgressStyleModel",
     "state": {
      "_model_module": "@jupyter-widgets/controls",
      "_model_module_version": "1.5.0",
      "_model_name": "ProgressStyleModel",
      "_view_count": null,
      "_view_module": "@jupyter-widgets/base",
      "_view_module_version": "1.2.0",
      "_view_name": "StyleView",
      "bar_color": null,
      "description_width": ""
     }
    },
    "99069fb4f4fb421eaeba1d79791a4bdd": {
     "model_module": "@jupyter-widgets/controls",
     "model_module_version": "1.5.0",
     "model_name": "IntProgressModel",
     "state": {
      "_dom_classes": [],
      "_model_module": "@jupyter-widgets/controls",
      "_model_module_version": "1.5.0",
      "_model_name": "IntProgressModel",
      "_view_count": null,
      "_view_module": "@jupyter-widgets/controls",
      "_view_module_version": "1.5.0",
      "_view_name": "ProgressView",
      "bar_style": "",
      "description": "Processing: ",
      "description_tooltip": null,
      "layout": "IPY_MODEL_f35a57c7d7f0445c9b098ddb6df170f6",
      "max": 5,
      "min": 0,
      "orientation": "horizontal",
      "style": "IPY_MODEL_bd626f240b4b48b8b675a99041454f2c",
      "value": 5
     }
    },
    "9974fb7aee374fae841036d08ce6407c": {
     "model_module": "@jupyter-widgets/base",
     "model_module_version": "1.2.0",
     "model_name": "LayoutModel",
     "state": {
      "_model_module": "@jupyter-widgets/base",
      "_model_module_version": "1.2.0",
      "_model_name": "LayoutModel",
      "_view_count": null,
      "_view_module": "@jupyter-widgets/base",
      "_view_module_version": "1.2.0",
      "_view_name": "LayoutView",
      "align_content": null,
      "align_items": null,
      "align_self": null,
      "border": null,
      "bottom": null,
      "display": null,
      "flex": null,
      "flex_flow": null,
      "grid_area": null,
      "grid_auto_columns": null,
      "grid_auto_flow": null,
      "grid_auto_rows": null,
      "grid_column": null,
      "grid_gap": null,
      "grid_row": null,
      "grid_template_areas": null,
      "grid_template_columns": null,
      "grid_template_rows": null,
      "height": null,
      "justify_content": null,
      "justify_items": null,
      "left": null,
      "margin": null,
      "max_height": null,
      "max_width": null,
      "min_height": null,
      "min_width": null,
      "object_fit": null,
      "object_position": null,
      "order": null,
      "overflow": null,
      "overflow_x": null,
      "overflow_y": null,
      "padding": null,
      "right": null,
      "top": null,
      "visibility": null,
      "width": null
     }
    },
    "9b3e84fa640a40e4a9f34ffc2e605859": {
     "model_module": "@jupyter-widgets/controls",
     "model_module_version": "1.5.0",
     "model_name": "IntProgressModel",
     "state": {
      "_dom_classes": [],
      "_model_module": "@jupyter-widgets/controls",
      "_model_module_version": "1.5.0",
      "_model_name": "IntProgressModel",
      "_view_count": null,
      "_view_module": "@jupyter-widgets/controls",
      "_view_module_version": "1.5.0",
      "_view_name": "ProgressView",
      "bar_style": "",
      "description": "Processing: ",
      "description_tooltip": null,
      "layout": "IPY_MODEL_a97f6fc39f0548d9bd723da535ca6364",
      "max": 5,
      "min": 0,
      "orientation": "horizontal",
      "style": "IPY_MODEL_dde003aa21764adf8af39c37fd546b4c",
      "value": 5
     }
    },
    "9bc604d7d5a14192a43eeaa9c7e7fc42": {
     "model_module": "@jupyter-widgets/base",
     "model_module_version": "1.2.0",
     "model_name": "LayoutModel",
     "state": {
      "_model_module": "@jupyter-widgets/base",
      "_model_module_version": "1.2.0",
      "_model_name": "LayoutModel",
      "_view_count": null,
      "_view_module": "@jupyter-widgets/base",
      "_view_module_version": "1.2.0",
      "_view_name": "LayoutView",
      "align_content": null,
      "align_items": null,
      "align_self": null,
      "border": null,
      "bottom": null,
      "display": null,
      "flex": null,
      "flex_flow": null,
      "grid_area": null,
      "grid_auto_columns": null,
      "grid_auto_flow": null,
      "grid_auto_rows": null,
      "grid_column": null,
      "grid_gap": null,
      "grid_row": null,
      "grid_template_areas": null,
      "grid_template_columns": null,
      "grid_template_rows": null,
      "height": null,
      "justify_content": null,
      "justify_items": null,
      "left": null,
      "margin": null,
      "max_height": null,
      "max_width": null,
      "min_height": null,
      "min_width": null,
      "object_fit": null,
      "object_position": null,
      "order": null,
      "overflow": null,
      "overflow_x": null,
      "overflow_y": null,
      "padding": null,
      "right": null,
      "top": null,
      "visibility": null,
      "width": null
     }
    },
    "9f4bf741902e4cff985b0ab40e253345": {
     "model_module": "@jupyter-widgets/controls",
     "model_module_version": "1.5.0",
     "model_name": "IntProgressModel",
     "state": {
      "_dom_classes": [],
      "_model_module": "@jupyter-widgets/controls",
      "_model_module_version": "1.5.0",
      "_model_name": "IntProgressModel",
      "_view_count": null,
      "_view_module": "@jupyter-widgets/controls",
      "_view_module_version": "1.5.0",
      "_view_name": "ProgressView",
      "bar_style": "",
      "description": "Processing: ",
      "description_tooltip": null,
      "layout": "IPY_MODEL_e66349f59a78421a8de1025963c98c19",
      "max": 5,
      "min": 0,
      "orientation": "horizontal",
      "style": "IPY_MODEL_309fbc06aecb47c7b9002190f2a32aa2",
      "value": 5
     }
    },
    "a221432d92464cba92e5eb5902297261": {
     "model_module": "@jupyter-widgets/controls",
     "model_module_version": "1.5.0",
     "model_name": "ToggleButtonsStyleModel",
     "state": {
      "_model_module": "@jupyter-widgets/controls",
      "_model_module_version": "1.5.0",
      "_model_name": "ToggleButtonsStyleModel",
      "_view_count": null,
      "_view_module": "@jupyter-widgets/base",
      "_view_module_version": "1.2.0",
      "_view_name": "StyleView",
      "button_width": "",
      "description_width": "",
      "font_weight": ""
     }
    },
    "a97f6fc39f0548d9bd723da535ca6364": {
     "model_module": "@jupyter-widgets/base",
     "model_module_version": "1.2.0",
     "model_name": "LayoutModel",
     "state": {
      "_model_module": "@jupyter-widgets/base",
      "_model_module_version": "1.2.0",
      "_model_name": "LayoutModel",
      "_view_count": null,
      "_view_module": "@jupyter-widgets/base",
      "_view_module_version": "1.2.0",
      "_view_name": "LayoutView",
      "align_content": null,
      "align_items": null,
      "align_self": null,
      "border": null,
      "bottom": null,
      "display": null,
      "flex": null,
      "flex_flow": null,
      "grid_area": null,
      "grid_auto_columns": null,
      "grid_auto_flow": null,
      "grid_auto_rows": null,
      "grid_column": null,
      "grid_gap": null,
      "grid_row": null,
      "grid_template_areas": null,
      "grid_template_columns": null,
      "grid_template_rows": null,
      "height": null,
      "justify_content": null,
      "justify_items": null,
      "left": null,
      "margin": null,
      "max_height": null,
      "max_width": null,
      "min_height": null,
      "min_width": null,
      "object_fit": null,
      "object_position": null,
      "order": null,
      "overflow": null,
      "overflow_x": null,
      "overflow_y": null,
      "padding": null,
      "right": null,
      "top": null,
      "visibility": null,
      "width": null
     }
    },
    "aa5a92359046486bb1362950a5b853a5": {
     "model_module": "@jupyter-widgets/controls",
     "model_module_version": "1.5.0",
     "model_name": "IntProgressModel",
     "state": {
      "_dom_classes": [],
      "_model_module": "@jupyter-widgets/controls",
      "_model_module_version": "1.5.0",
      "_model_name": "IntProgressModel",
      "_view_count": null,
      "_view_module": "@jupyter-widgets/controls",
      "_view_module_version": "1.5.0",
      "_view_name": "ProgressView",
      "bar_style": "",
      "description": "Processing: ",
      "description_tooltip": null,
      "layout": "IPY_MODEL_bd6d4045019243c9853212b9d862e096",
      "max": 5,
      "min": 0,
      "orientation": "horizontal",
      "style": "IPY_MODEL_4748fe383cd4472a965944023fab7a02",
      "value": 3
     }
    },
    "b2f31f2006484a7ba1ca208f8c8141d4": {
     "model_module": "@jupyter-widgets/controls",
     "model_module_version": "1.5.0",
     "model_name": "ToggleButtonsModel",
     "state": {
      "_dom_classes": [],
      "_model_module": "@jupyter-widgets/controls",
      "_model_module_version": "1.5.0",
      "_model_name": "ToggleButtonsModel",
      "_options_labels": [
       "Hyperparameters",
       "AUC",
       "Confusion Matrix",
       "Threshold",
       "Precision Recall",
       "Prediction Error",
       "Class Report",
       "Feature Selection",
       "Learning Curve",
       "Manifold Learning",
       "Calibration Curve",
       "Validation Curve",
       "Dimensions",
       "Feature Importance",
       "Feature Importance (All)",
       "Decision Boundary",
       "Lift Chart",
       "Gain Chart",
       "Decision Tree",
       "KS Statistic Plot"
      ],
      "_view_count": null,
      "_view_module": "@jupyter-widgets/controls",
      "_view_module_version": "1.5.0",
      "_view_name": "ToggleButtonsView",
      "button_style": "",
      "description": "Plot Type:",
      "description_tooltip": null,
      "disabled": false,
      "icons": [
       ""
      ],
      "index": 13,
      "layout": "IPY_MODEL_84cc7d5466374f80b5ab6e427da3c59c",
      "style": "IPY_MODEL_a221432d92464cba92e5eb5902297261",
      "tooltips": []
     }
    },
    "b32ee20dfb674a81b6906ef79e6064f2": {
     "model_module": "@jupyter-widgets/controls",
     "model_module_version": "1.5.0",
     "model_name": "IntProgressModel",
     "state": {
      "_dom_classes": [],
      "_model_module": "@jupyter-widgets/controls",
      "_model_module_version": "1.5.0",
      "_model_name": "IntProgressModel",
      "_view_count": null,
      "_view_module": "@jupyter-widgets/controls",
      "_view_module_version": "1.5.0",
      "_view_name": "ProgressView",
      "bar_style": "",
      "description": "Processing: ",
      "description_tooltip": null,
      "layout": "IPY_MODEL_8bc2a2b6744d46f38200b6d9b0deb7ad",
      "max": 5,
      "min": 0,
      "orientation": "horizontal",
      "style": "IPY_MODEL_972a6eea74a748e99ed24e508265e9ac",
      "value": 5
     }
    },
    "bd626f240b4b48b8b675a99041454f2c": {
     "model_module": "@jupyter-widgets/controls",
     "model_module_version": "1.5.0",
     "model_name": "ProgressStyleModel",
     "state": {
      "_model_module": "@jupyter-widgets/controls",
      "_model_module_version": "1.5.0",
      "_model_name": "ProgressStyleModel",
      "_view_count": null,
      "_view_module": "@jupyter-widgets/base",
      "_view_module_version": "1.2.0",
      "_view_name": "StyleView",
      "bar_color": null,
      "description_width": ""
     }
    },
    "bd6d4045019243c9853212b9d862e096": {
     "model_module": "@jupyter-widgets/base",
     "model_module_version": "1.2.0",
     "model_name": "LayoutModel",
     "state": {
      "_model_module": "@jupyter-widgets/base",
      "_model_module_version": "1.2.0",
      "_model_name": "LayoutModel",
      "_view_count": null,
      "_view_module": "@jupyter-widgets/base",
      "_view_module_version": "1.2.0",
      "_view_name": "LayoutView",
      "align_content": null,
      "align_items": null,
      "align_self": null,
      "border": null,
      "bottom": null,
      "display": null,
      "flex": null,
      "flex_flow": null,
      "grid_area": null,
      "grid_auto_columns": null,
      "grid_auto_flow": null,
      "grid_auto_rows": null,
      "grid_column": null,
      "grid_gap": null,
      "grid_row": null,
      "grid_template_areas": null,
      "grid_template_columns": null,
      "grid_template_rows": null,
      "height": null,
      "justify_content": null,
      "justify_items": null,
      "left": null,
      "margin": null,
      "max_height": null,
      "max_width": null,
      "min_height": null,
      "min_width": null,
      "object_fit": null,
      "object_position": null,
      "order": null,
      "overflow": null,
      "overflow_x": null,
      "overflow_y": null,
      "padding": null,
      "right": null,
      "top": null,
      "visibility": null,
      "width": null
     }
    },
    "beb136aef2904bce817b63fca12bd592": {
     "model_module": "@jupyter-widgets/controls",
     "model_module_version": "1.5.0",
     "model_name": "IntProgressModel",
     "state": {
      "_dom_classes": [],
      "_model_module": "@jupyter-widgets/controls",
      "_model_module_version": "1.5.0",
      "_model_name": "IntProgressModel",
      "_view_count": null,
      "_view_module": "@jupyter-widgets/controls",
      "_view_module_version": "1.5.0",
      "_view_name": "ProgressView",
      "bar_style": "",
      "description": "Processing: ",
      "description_tooltip": null,
      "layout": "IPY_MODEL_26a10907a99343ac841b138f4102e19d",
      "max": 5,
      "min": 0,
      "orientation": "horizontal",
      "style": "IPY_MODEL_eb610ebf9b3b43aebfe4fe66f85cef35",
      "value": 3
     }
    },
    "bfa0fe2cc7ad46c8b580970b1966b36e": {
     "model_module": "@jupyter-widgets/controls",
     "model_module_version": "1.5.0",
     "model_name": "ProgressStyleModel",
     "state": {
      "_model_module": "@jupyter-widgets/controls",
      "_model_module_version": "1.5.0",
      "_model_name": "ProgressStyleModel",
      "_view_count": null,
      "_view_module": "@jupyter-widgets/base",
      "_view_module_version": "1.2.0",
      "_view_name": "StyleView",
      "bar_color": null,
      "description_width": ""
     }
    },
    "c271b95622b34c95b982f55649287c10": {
     "model_module": "@jupyter-widgets/base",
     "model_module_version": "1.2.0",
     "model_name": "LayoutModel",
     "state": {
      "_model_module": "@jupyter-widgets/base",
      "_model_module_version": "1.2.0",
      "_model_name": "LayoutModel",
      "_view_count": null,
      "_view_module": "@jupyter-widgets/base",
      "_view_module_version": "1.2.0",
      "_view_name": "LayoutView",
      "align_content": null,
      "align_items": null,
      "align_self": null,
      "border": null,
      "bottom": null,
      "display": null,
      "flex": null,
      "flex_flow": null,
      "grid_area": null,
      "grid_auto_columns": null,
      "grid_auto_flow": null,
      "grid_auto_rows": null,
      "grid_column": null,
      "grid_gap": null,
      "grid_row": null,
      "grid_template_areas": null,
      "grid_template_columns": null,
      "grid_template_rows": null,
      "height": null,
      "justify_content": null,
      "justify_items": null,
      "left": null,
      "margin": null,
      "max_height": null,
      "max_width": null,
      "min_height": null,
      "min_width": null,
      "object_fit": null,
      "object_position": null,
      "order": null,
      "overflow": null,
      "overflow_x": null,
      "overflow_y": null,
      "padding": null,
      "right": null,
      "top": null,
      "visibility": null,
      "width": null
     }
    },
    "ca68088bb7de41e0be7c588075c323ba": {
     "model_module": "@jupyter-widgets/base",
     "model_module_version": "1.2.0",
     "model_name": "LayoutModel",
     "state": {
      "_model_module": "@jupyter-widgets/base",
      "_model_module_version": "1.2.0",
      "_model_name": "LayoutModel",
      "_view_count": null,
      "_view_module": "@jupyter-widgets/base",
      "_view_module_version": "1.2.0",
      "_view_name": "LayoutView",
      "align_content": null,
      "align_items": null,
      "align_self": null,
      "border": null,
      "bottom": null,
      "display": null,
      "flex": null,
      "flex_flow": null,
      "grid_area": null,
      "grid_auto_columns": null,
      "grid_auto_flow": null,
      "grid_auto_rows": null,
      "grid_column": null,
      "grid_gap": null,
      "grid_row": null,
      "grid_template_areas": null,
      "grid_template_columns": null,
      "grid_template_rows": null,
      "height": null,
      "justify_content": null,
      "justify_items": null,
      "left": null,
      "margin": null,
      "max_height": null,
      "max_width": null,
      "min_height": null,
      "min_width": null,
      "object_fit": null,
      "object_position": null,
      "order": null,
      "overflow": null,
      "overflow_x": null,
      "overflow_y": null,
      "padding": null,
      "right": null,
      "top": null,
      "visibility": null,
      "width": "100%"
     }
    },
    "cdc203960512439a9a846bfdd65a005a": {
     "model_module": "@jupyter-widgets/controls",
     "model_module_version": "1.5.0",
     "model_name": "ProgressStyleModel",
     "state": {
      "_model_module": "@jupyter-widgets/controls",
      "_model_module_version": "1.5.0",
      "_model_name": "ProgressStyleModel",
      "_view_count": null,
      "_view_module": "@jupyter-widgets/base",
      "_view_module_version": "1.2.0",
      "_view_name": "StyleView",
      "bar_color": null,
      "description_width": ""
     }
    },
    "d3ac7fb4d97e4737b869d1d27b287190": {
     "model_module": "@jupyter-widgets/controls",
     "model_module_version": "1.5.0",
     "model_name": "ToggleButtonsModel",
     "state": {
      "_dom_classes": [],
      "_model_module": "@jupyter-widgets/controls",
      "_model_module_version": "1.5.0",
      "_model_name": "ToggleButtonsModel",
      "_options_labels": [
       "Hyperparameters",
       "AUC",
       "Confusion Matrix",
       "Threshold",
       "Precision Recall",
       "Prediction Error",
       "Class Report",
       "Feature Selection",
       "Learning Curve",
       "Manifold Learning",
       "Calibration Curve",
       "Validation Curve",
       "Dimensions",
       "Feature Importance",
       "Feature Importance (All)",
       "Decision Boundary",
       "Lift Chart",
       "Gain Chart",
       "Decision Tree",
       "KS Statistic Plot"
      ],
      "_view_count": null,
      "_view_module": "@jupyter-widgets/controls",
      "_view_module_version": "1.5.0",
      "_view_name": "ToggleButtonsView",
      "button_style": "",
      "description": "Plot Type:",
      "description_tooltip": null,
      "disabled": false,
      "icons": [
       ""
      ],
      "index": 13,
      "layout": "IPY_MODEL_fec8b8c6a0e64053988fb0d6519cfd29",
      "style": "IPY_MODEL_38633515d5804f4886d15eee8d808b3f",
      "tooltips": []
     }
    },
    "dde003aa21764adf8af39c37fd546b4c": {
     "model_module": "@jupyter-widgets/controls",
     "model_module_version": "1.5.0",
     "model_name": "ProgressStyleModel",
     "state": {
      "_model_module": "@jupyter-widgets/controls",
      "_model_module_version": "1.5.0",
      "_model_name": "ProgressStyleModel",
      "_view_count": null,
      "_view_module": "@jupyter-widgets/base",
      "_view_module_version": "1.2.0",
      "_view_name": "StyleView",
      "bar_color": null,
      "description_width": ""
     }
    },
    "e66349f59a78421a8de1025963c98c19": {
     "model_module": "@jupyter-widgets/base",
     "model_module_version": "1.2.0",
     "model_name": "LayoutModel",
     "state": {
      "_model_module": "@jupyter-widgets/base",
      "_model_module_version": "1.2.0",
      "_model_name": "LayoutModel",
      "_view_count": null,
      "_view_module": "@jupyter-widgets/base",
      "_view_module_version": "1.2.0",
      "_view_name": "LayoutView",
      "align_content": null,
      "align_items": null,
      "align_self": null,
      "border": null,
      "bottom": null,
      "display": null,
      "flex": null,
      "flex_flow": null,
      "grid_area": null,
      "grid_auto_columns": null,
      "grid_auto_flow": null,
      "grid_auto_rows": null,
      "grid_column": null,
      "grid_gap": null,
      "grid_row": null,
      "grid_template_areas": null,
      "grid_template_columns": null,
      "grid_template_rows": null,
      "height": null,
      "justify_content": null,
      "justify_items": null,
      "left": null,
      "margin": null,
      "max_height": null,
      "max_width": null,
      "min_height": null,
      "min_width": null,
      "object_fit": null,
      "object_position": null,
      "order": null,
      "overflow": null,
      "overflow_x": null,
      "overflow_y": null,
      "padding": null,
      "right": null,
      "top": null,
      "visibility": null,
      "width": null
     }
    },
    "eb610ebf9b3b43aebfe4fe66f85cef35": {
     "model_module": "@jupyter-widgets/controls",
     "model_module_version": "1.5.0",
     "model_name": "ProgressStyleModel",
     "state": {
      "_model_module": "@jupyter-widgets/controls",
      "_model_module_version": "1.5.0",
      "_model_name": "ProgressStyleModel",
      "_view_count": null,
      "_view_module": "@jupyter-widgets/base",
      "_view_module_version": "1.2.0",
      "_view_name": "StyleView",
      "bar_color": null,
      "description_width": ""
     }
    },
    "f35a57c7d7f0445c9b098ddb6df170f6": {
     "model_module": "@jupyter-widgets/base",
     "model_module_version": "1.2.0",
     "model_name": "LayoutModel",
     "state": {
      "_model_module": "@jupyter-widgets/base",
      "_model_module_version": "1.2.0",
      "_model_name": "LayoutModel",
      "_view_count": null,
      "_view_module": "@jupyter-widgets/base",
      "_view_module_version": "1.2.0",
      "_view_name": "LayoutView",
      "align_content": null,
      "align_items": null,
      "align_self": null,
      "border": null,
      "bottom": null,
      "display": null,
      "flex": null,
      "flex_flow": null,
      "grid_area": null,
      "grid_auto_columns": null,
      "grid_auto_flow": null,
      "grid_auto_rows": null,
      "grid_column": null,
      "grid_gap": null,
      "grid_row": null,
      "grid_template_areas": null,
      "grid_template_columns": null,
      "grid_template_rows": null,
      "height": null,
      "justify_content": null,
      "justify_items": null,
      "left": null,
      "margin": null,
      "max_height": null,
      "max_width": null,
      "min_height": null,
      "min_width": null,
      "object_fit": null,
      "object_position": null,
      "order": null,
      "overflow": null,
      "overflow_x": null,
      "overflow_y": null,
      "padding": null,
      "right": null,
      "top": null,
      "visibility": null,
      "width": null
     }
    },
    "f57b66fb5ee74cd68193117a8156985f": {
     "model_module": "@jupyter-widgets/controls",
     "model_module_version": "1.5.0",
     "model_name": "TextModel",
     "state": {
      "_dom_classes": [],
      "_model_module": "@jupyter-widgets/controls",
      "_model_module_version": "1.5.0",
      "_model_name": "TextModel",
      "_view_count": null,
      "_view_module": "@jupyter-widgets/controls",
      "_view_module_version": "1.5.0",
      "_view_name": "TextView",
      "continuous_update": true,
      "description": "",
      "description_tooltip": null,
      "disabled": false,
      "layout": "IPY_MODEL_ca68088bb7de41e0be7c588075c323ba",
      "placeholder": "​",
      "style": "IPY_MODEL_044f9c265c2a47b288980e74f0d87f68",
      "value": "Following data types have been inferred automatically, if they are correct press enter to continue or type 'quit' otherwise."
     }
    },
    "f7f3999f9104455b9a7b2caa3ae4be27": {
     "model_module": "@jupyter-widgets/base",
     "model_module_version": "1.2.0",
     "model_name": "LayoutModel",
     "state": {
      "_model_module": "@jupyter-widgets/base",
      "_model_module_version": "1.2.0",
      "_model_name": "LayoutModel",
      "_view_count": null,
      "_view_module": "@jupyter-widgets/base",
      "_view_module_version": "1.2.0",
      "_view_name": "LayoutView",
      "align_content": null,
      "align_items": null,
      "align_self": null,
      "border": null,
      "bottom": null,
      "display": null,
      "flex": null,
      "flex_flow": null,
      "grid_area": null,
      "grid_auto_columns": null,
      "grid_auto_flow": null,
      "grid_auto_rows": null,
      "grid_column": null,
      "grid_gap": null,
      "grid_row": null,
      "grid_template_areas": null,
      "grid_template_columns": null,
      "grid_template_rows": null,
      "height": null,
      "justify_content": null,
      "justify_items": null,
      "left": null,
      "margin": null,
      "max_height": null,
      "max_width": null,
      "min_height": null,
      "min_width": null,
      "object_fit": null,
      "object_position": null,
      "order": null,
      "overflow": null,
      "overflow_x": null,
      "overflow_y": null,
      "padding": null,
      "right": null,
      "top": null,
      "visibility": null,
      "width": null
     }
    },
    "fb1030123bee4dd2a6b1e8c553ae0a31": {
     "model_module": "@jupyter-widgets/controls",
     "model_module_version": "1.5.0",
     "model_name": "ProgressStyleModel",
     "state": {
      "_model_module": "@jupyter-widgets/controls",
      "_model_module_version": "1.5.0",
      "_model_name": "ProgressStyleModel",
      "_view_count": null,
      "_view_module": "@jupyter-widgets/base",
      "_view_module_version": "1.2.0",
      "_view_name": "StyleView",
      "bar_color": null,
      "description_width": ""
     }
    },
    "fec8b8c6a0e64053988fb0d6519cfd29": {
     "model_module": "@jupyter-widgets/base",
     "model_module_version": "1.2.0",
     "model_name": "LayoutModel",
     "state": {
      "_model_module": "@jupyter-widgets/base",
      "_model_module_version": "1.2.0",
      "_model_name": "LayoutModel",
      "_view_count": null,
      "_view_module": "@jupyter-widgets/base",
      "_view_module_version": "1.2.0",
      "_view_name": "LayoutView",
      "align_content": null,
      "align_items": null,
      "align_self": null,
      "border": null,
      "bottom": null,
      "display": null,
      "flex": null,
      "flex_flow": null,
      "grid_area": null,
      "grid_auto_columns": null,
      "grid_auto_flow": null,
      "grid_auto_rows": null,
      "grid_column": null,
      "grid_gap": null,
      "grid_row": null,
      "grid_template_areas": null,
      "grid_template_columns": null,
      "grid_template_rows": null,
      "height": null,
      "justify_content": null,
      "justify_items": null,
      "left": null,
      "margin": null,
      "max_height": null,
      "max_width": null,
      "min_height": null,
      "min_width": null,
      "object_fit": null,
      "object_position": null,
      "order": null,
      "overflow": null,
      "overflow_x": null,
      "overflow_y": null,
      "padding": null,
      "right": null,
      "top": null,
      "visibility": null,
      "width": null
     }
    }
   }
  }
 },
 "nbformat": 4,
 "nbformat_minor": 1
}
